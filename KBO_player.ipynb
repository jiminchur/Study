{
 "cells": [
  {
   "cell_type": "code",
   "execution_count": 1,
   "id": "b5e74dd2-824a-413a-af00-e42c5f2dc161",
   "metadata": {},
   "outputs": [
    {
     "name": "stdout",
     "output_type": "stream",
     "text": [
      "Collecting selenium\n",
      "  Downloading selenium-4.16.0-py3-none-any.whl.metadata (6.9 kB)\n",
      "Requirement already satisfied: urllib3<3,>=1.26 in /opt/homebrew/opt/python-urllib3/lib/python3.12/site-packages (from urllib3[socks]<3,>=1.26->selenium) (2.1.0)\n",
      "Collecting trio~=0.17 (from selenium)\n",
      "  Downloading trio-0.23.2-py3-none-any.whl.metadata (4.9 kB)\n",
      "Collecting trio-websocket~=0.9 (from selenium)\n",
      "  Downloading trio_websocket-0.11.1-py3-none-any.whl.metadata (4.7 kB)\n",
      "Requirement already satisfied: certifi>=2021.10.8 in /opt/homebrew/opt/python-certifi/lib/python3.12/site-packages (from selenium) (2023.11.17)\n",
      "Requirement already satisfied: attrs>=20.1.0 in /opt/homebrew/Cellar/jupyterlab/4.0.10/libexec/lib/python3.12/site-packages (from trio~=0.17->selenium) (23.1.0)\n",
      "Collecting sortedcontainers (from trio~=0.17->selenium)\n",
      "  Downloading sortedcontainers-2.4.0-py2.py3-none-any.whl (29 kB)\n",
      "Requirement already satisfied: idna in /opt/homebrew/opt/python-idna/lib/python3.12/site-packages (from trio~=0.17->selenium) (3.6)\n",
      "Collecting outcome (from trio~=0.17->selenium)\n",
      "  Downloading outcome-1.3.0.post0-py2.py3-none-any.whl.metadata (2.6 kB)\n",
      "Requirement already satisfied: sniffio>=1.3.0 in /opt/homebrew/Cellar/jupyterlab/4.0.10/libexec/lib/python3.12/site-packages (from trio~=0.17->selenium) (1.3.0)\n",
      "Collecting wsproto>=0.14 (from trio-websocket~=0.9->selenium)\n",
      "  Downloading wsproto-1.2.0-py3-none-any.whl (24 kB)\n",
      "Collecting pysocks!=1.5.7,<2.0,>=1.5.6 (from urllib3[socks]<3,>=1.26->selenium)\n",
      "  Downloading PySocks-1.7.1-py3-none-any.whl (16 kB)\n",
      "Collecting h11<1,>=0.9.0 (from wsproto>=0.14->trio-websocket~=0.9->selenium)\n",
      "  Using cached h11-0.14.0-py3-none-any.whl (58 kB)\n",
      "Downloading selenium-4.16.0-py3-none-any.whl (10.0 MB)\n",
      "\u001b[2K   \u001b[90m━━━━━━━━━━━━━━━━━━━━━━━━━━━━━━━━━━━━━━━━\u001b[0m \u001b[32m10.0/10.0 MB\u001b[0m \u001b[31m48.2 MB/s\u001b[0m eta \u001b[36m0:00:00\u001b[0m00:01\u001b[0m0:01\u001b[0m\n",
      "\u001b[?25hDownloading trio-0.23.2-py3-none-any.whl (461 kB)\n",
      "\u001b[2K   \u001b[90m━━━━━━━━━━━━━━━━━━━━━━━━━━━━━━━━━━━━━━━━\u001b[0m \u001b[32m461.6/461.6 kB\u001b[0m \u001b[31m45.3 MB/s\u001b[0m eta \u001b[36m0:00:00\u001b[0m\n",
      "\u001b[?25hDownloading trio_websocket-0.11.1-py3-none-any.whl (17 kB)\n",
      "Downloading outcome-1.3.0.post0-py2.py3-none-any.whl (10 kB)\n",
      "Installing collected packages: sortedcontainers, pysocks, outcome, h11, wsproto, trio, trio-websocket, selenium\n",
      "Successfully installed h11-0.14.0 outcome-1.3.0.post0 pysocks-1.7.1 selenium-4.16.0 sortedcontainers-2.4.0 trio-0.23.2 trio-websocket-0.11.1 wsproto-1.2.0\n",
      "\n",
      "\u001b[1m[\u001b[0m\u001b[34;49mnotice\u001b[0m\u001b[1;39;49m]\u001b[0m\u001b[39;49m A new release of pip is available: \u001b[0m\u001b[31;49m23.3.1\u001b[0m\u001b[39;49m -> \u001b[0m\u001b[32;49m23.3.2\u001b[0m\n",
      "\u001b[1m[\u001b[0m\u001b[34;49mnotice\u001b[0m\u001b[1;39;49m]\u001b[0m\u001b[39;49m To update, run: \u001b[0m\u001b[32;49m/opt/homebrew/Cellar/jupyterlab/4.0.10/libexec/bin/python -m pip install --upgrade pip\u001b[0m\n",
      "Note: you may need to restart the kernel to use updated packages.\n"
     ]
    }
   ],
   "source": [
    "pip install selenium"
   ]
  },
  {
   "cell_type": "code",
   "execution_count": 2,
   "id": "6b0b0add-cc9f-4c2b-863d-afae1c3ee600",
   "metadata": {},
   "outputs": [],
   "source": [
    "from selenium import webdriver\n",
    "from selenium.webdriver.common.by import By\n",
    "import time\n",
    "import re\n",
    "import requests "
   ]
  },
  {
   "cell_type": "code",
   "execution_count": 3,
   "id": "049a7aa5-a3c5-4f52-a2f5-376ac814312a",
   "metadata": {},
   "outputs": [],
   "source": [
    "driver = webdriver.Chrome()"
   ]
  },
  {
   "cell_type": "code",
   "execution_count": 184,
   "id": "3afa9100-9048-446d-a202-0272b71ee51a",
   "metadata": {},
   "outputs": [
    {
     "ename": "NoSuchWindowException",
     "evalue": "Message: no such window: target window already closed\nfrom unknown error: web view not found\n  (Session info: chrome=120.0.6099.199)\nStacktrace:\n0   chromedriver                        0x0000000102a604dc chromedriver + 4162780\n1   chromedriver                        0x0000000102a58664 chromedriver + 4130404\n2   chromedriver                        0x00000001026afbc0 chromedriver + 293824\n3   chromedriver                        0x00000001026886c0 chromedriver + 132800\n4   chromedriver                        0x000000010272125c chromedriver + 758364\n5   chromedriver                        0x0000000102735294 chromedriver + 840340\n6   chromedriver                        0x00000001026e96bc chromedriver + 530108\n7   chromedriver                        0x00000001026ea930 chromedriver + 534832\n8   chromedriver                        0x0000000102a25e08 chromedriver + 3923464\n9   chromedriver                        0x0000000102a2a3dc chromedriver + 3941340\n10  chromedriver                        0x0000000102a0e038 chromedriver + 3825720\n11  chromedriver                        0x0000000102a2af3c chromedriver + 3944252\n12  chromedriver                        0x0000000102a006f4 chromedriver + 3770100\n13  chromedriver                        0x0000000102a47980 chromedriver + 4061568\n14  chromedriver                        0x0000000102a47af8 chromedriver + 4061944\n15  chromedriver                        0x0000000102a582e4 chromedriver + 4129508\n16  libsystem_pthread.dylib             0x000000018e6b9034 _pthread_start + 136\n17  libsystem_pthread.dylib             0x000000018e6b3e3c thread_start + 8\n",
     "output_type": "error",
     "traceback": [
      "\u001b[0;31m---------------------------------------------------------------------------\u001b[0m",
      "\u001b[0;31mNoSuchWindowException\u001b[0m                     Traceback (most recent call last)",
      "Cell \u001b[0;32mIn[184], line 1\u001b[0m\n\u001b[0;32m----> 1\u001b[0m \u001b[43mdriver\u001b[49m\u001b[38;5;241;43m.\u001b[39;49m\u001b[43mget\u001b[49m\u001b[43m(\u001b[49m\u001b[38;5;124;43m\"\u001b[39;49m\u001b[38;5;124;43mhttps://www.koreabaseball.com/Default.aspx\u001b[39;49m\u001b[38;5;124;43m\"\u001b[39;49m\u001b[43m)\u001b[49m\n",
      "File \u001b[0;32m/opt/homebrew/Cellar/jupyterlab/4.0.10/libexec/lib/python3.12/site-packages/selenium/webdriver/remote/webdriver.py:357\u001b[0m, in \u001b[0;36mWebDriver.get\u001b[0;34m(self, url)\u001b[0m\n\u001b[1;32m    355\u001b[0m \u001b[38;5;28;01mdef\u001b[39;00m \u001b[38;5;21mget\u001b[39m(\u001b[38;5;28mself\u001b[39m, url: \u001b[38;5;28mstr\u001b[39m) \u001b[38;5;241m-\u001b[39m\u001b[38;5;241m>\u001b[39m \u001b[38;5;28;01mNone\u001b[39;00m:\n\u001b[1;32m    356\u001b[0m \u001b[38;5;250m    \u001b[39m\u001b[38;5;124;03m\"\"\"Loads a web page in the current browser session.\"\"\"\u001b[39;00m\n\u001b[0;32m--> 357\u001b[0m     \u001b[38;5;28;43mself\u001b[39;49m\u001b[38;5;241;43m.\u001b[39;49m\u001b[43mexecute\u001b[49m\u001b[43m(\u001b[49m\u001b[43mCommand\u001b[49m\u001b[38;5;241;43m.\u001b[39;49m\u001b[43mGET\u001b[49m\u001b[43m,\u001b[49m\u001b[43m \u001b[49m\u001b[43m{\u001b[49m\u001b[38;5;124;43m\"\u001b[39;49m\u001b[38;5;124;43murl\u001b[39;49m\u001b[38;5;124;43m\"\u001b[39;49m\u001b[43m:\u001b[49m\u001b[43m \u001b[49m\u001b[43murl\u001b[49m\u001b[43m}\u001b[49m\u001b[43m)\u001b[49m\n",
      "File \u001b[0;32m/opt/homebrew/Cellar/jupyterlab/4.0.10/libexec/lib/python3.12/site-packages/selenium/webdriver/remote/webdriver.py:348\u001b[0m, in \u001b[0;36mWebDriver.execute\u001b[0;34m(self, driver_command, params)\u001b[0m\n\u001b[1;32m    346\u001b[0m response \u001b[38;5;241m=\u001b[39m \u001b[38;5;28mself\u001b[39m\u001b[38;5;241m.\u001b[39mcommand_executor\u001b[38;5;241m.\u001b[39mexecute(driver_command, params)\n\u001b[1;32m    347\u001b[0m \u001b[38;5;28;01mif\u001b[39;00m response:\n\u001b[0;32m--> 348\u001b[0m     \u001b[38;5;28;43mself\u001b[39;49m\u001b[38;5;241;43m.\u001b[39;49m\u001b[43merror_handler\u001b[49m\u001b[38;5;241;43m.\u001b[39;49m\u001b[43mcheck_response\u001b[49m\u001b[43m(\u001b[49m\u001b[43mresponse\u001b[49m\u001b[43m)\u001b[49m\n\u001b[1;32m    349\u001b[0m     response[\u001b[38;5;124m\"\u001b[39m\u001b[38;5;124mvalue\u001b[39m\u001b[38;5;124m\"\u001b[39m] \u001b[38;5;241m=\u001b[39m \u001b[38;5;28mself\u001b[39m\u001b[38;5;241m.\u001b[39m_unwrap_value(response\u001b[38;5;241m.\u001b[39mget(\u001b[38;5;124m\"\u001b[39m\u001b[38;5;124mvalue\u001b[39m\u001b[38;5;124m\"\u001b[39m, \u001b[38;5;28;01mNone\u001b[39;00m))\n\u001b[1;32m    350\u001b[0m     \u001b[38;5;28;01mreturn\u001b[39;00m response\n",
      "File \u001b[0;32m/opt/homebrew/Cellar/jupyterlab/4.0.10/libexec/lib/python3.12/site-packages/selenium/webdriver/remote/errorhandler.py:229\u001b[0m, in \u001b[0;36mErrorHandler.check_response\u001b[0;34m(self, response)\u001b[0m\n\u001b[1;32m    227\u001b[0m         alert_text \u001b[38;5;241m=\u001b[39m value[\u001b[38;5;124m\"\u001b[39m\u001b[38;5;124malert\u001b[39m\u001b[38;5;124m\"\u001b[39m]\u001b[38;5;241m.\u001b[39mget(\u001b[38;5;124m\"\u001b[39m\u001b[38;5;124mtext\u001b[39m\u001b[38;5;124m\"\u001b[39m)\n\u001b[1;32m    228\u001b[0m     \u001b[38;5;28;01mraise\u001b[39;00m exception_class(message, screen, stacktrace, alert_text)  \u001b[38;5;66;03m# type: ignore[call-arg]  # mypy is not smart enough here\u001b[39;00m\n\u001b[0;32m--> 229\u001b[0m \u001b[38;5;28;01mraise\u001b[39;00m exception_class(message, screen, stacktrace)\n",
      "\u001b[0;31mNoSuchWindowException\u001b[0m: Message: no such window: target window already closed\nfrom unknown error: web view not found\n  (Session info: chrome=120.0.6099.199)\nStacktrace:\n0   chromedriver                        0x0000000102a604dc chromedriver + 4162780\n1   chromedriver                        0x0000000102a58664 chromedriver + 4130404\n2   chromedriver                        0x00000001026afbc0 chromedriver + 293824\n3   chromedriver                        0x00000001026886c0 chromedriver + 132800\n4   chromedriver                        0x000000010272125c chromedriver + 758364\n5   chromedriver                        0x0000000102735294 chromedriver + 840340\n6   chromedriver                        0x00000001026e96bc chromedriver + 530108\n7   chromedriver                        0x00000001026ea930 chromedriver + 534832\n8   chromedriver                        0x0000000102a25e08 chromedriver + 3923464\n9   chromedriver                        0x0000000102a2a3dc chromedriver + 3941340\n10  chromedriver                        0x0000000102a0e038 chromedriver + 3825720\n11  chromedriver                        0x0000000102a2af3c chromedriver + 3944252\n12  chromedriver                        0x0000000102a006f4 chromedriver + 3770100\n13  chromedriver                        0x0000000102a47980 chromedriver + 4061568\n14  chromedriver                        0x0000000102a47af8 chromedriver + 4061944\n15  chromedriver                        0x0000000102a582e4 chromedriver + 4129508\n16  libsystem_pthread.dylib             0x000000018e6b9034 _pthread_start + 136\n17  libsystem_pthread.dylib             0x000000018e6b3e3c thread_start + 8\n"
     ]
    }
   ],
   "source": [
    "driver.get(\"https://www.koreabaseball.com/Default.aspx\")"
   ]
  },
  {
   "cell_type": "code",
   "execution_count": 10,
   "id": "ebcdda19-dca1-4f7f-b1ee-c43d4abf6c61",
   "metadata": {},
   "outputs": [],
   "source": [
    "from selenium.webdriver.common.by import By"
   ]
  },
  {
   "cell_type": "code",
   "execution_count": 32,
   "id": "e771fb26-b530-4d14-bc4b-4cb0cb8ca821",
   "metadata": {},
   "outputs": [],
   "source": [
    "driver.find_element(By.CSS_SELECTOR, \"#popupVideo > img\").click()"
   ]
  },
  {
   "cell_type": "code",
   "execution_count": 33,
   "id": "050f73df-cdae-49d1-85f1-483494dbeace",
   "metadata": {},
   "outputs": [],
   "source": [
    "driver.find_element(By.CSS_SELECTOR, \"#lnb > li:nth-child(3) > a\").click()"
   ]
  },
  {
   "cell_type": "code",
   "execution_count": 16,
   "id": "5ad65a97-7b9b-4d6b-a35b-a8dd39b5e510",
   "metadata": {},
   "outputs": [],
   "source": [
    "driver.find_element(By.CSS_SELECTOR,\"#cphContents_cphContents_cphContents_ddlTeam\").click()"
   ]
  },
  {
   "cell_type": "code",
   "execution_count": 17,
   "id": "5574c061-d509-43e5-8d6b-ae46c75af79b",
   "metadata": {},
   "outputs": [],
   "source": [
    "import time\n",
    "import re\n",
    "pattern = re.compile(\"playerId=([0-9]+)\")\n",
    "playid = []\n",
    "select_team = \"#cphContents_cphContents_cphContents_ddlTeam > option:nth-child({})\"\n",
    "select_page = \"#cphContents_cphContents_cphContents_ucPager_btnNo{}\"\n",
    "for x in range(2,12):\n",
    "    for_1 = select_team.format(x)\n",
    "    driver.find_element(By.CSS_SELECTOR, for_1).click()\n",
    "    time.sleep(2)\n",
    "    #playid.extend(pattern.findall(driver.page_source))\n",
    "    for y in range(1,6):\n",
    "        f2 = select_page.format(y)\n",
    "        try:\n",
    "            driver.find_element(By.CSS_SELECTOR, f2).click()\n",
    "            time.sleep(1)\n",
    "            playid.extend(pattern.findall(driver.page_source))\n",
    "        except Exception as e:\n",
    "            print (e)\n",
    "        time.sleep(2)\n"
   ]
  },
  {
   "cell_type": "code",
   "execution_count": 20,
   "id": "3934c8eb-5d29-4b97-81da-4220b6ec7d70",
   "metadata": {},
   "outputs": [
    {
     "data": {
      "text/plain": [
       "912"
      ]
     },
     "execution_count": 20,
     "metadata": {},
     "output_type": "execute_result"
    }
   ],
   "source": [
    "playid.__len__()"
   ]
  },
  {
   "cell_type": "code",
   "execution_count": 80,
   "id": "58723a3d-c07c-47f0-bb6f-b3a60f612573",
   "metadata": {},
   "outputs": [],
   "source": [
    "url_all = f\"# 선수 프로필 정보 https://www.koreabaseball.com/Record/Player/PitcherDetail/Basic.aspx?playerId={id}\""
   ]
  },
  {
   "cell_type": "code",
   "execution_count": 81,
   "id": "87ba8e86-9c70-4a21-b845-f8fb15ac6a08",
   "metadata": {},
   "outputs": [
    {
     "name": "stdout",
     "output_type": "stream",
     "text": [
      "Collecting lxml\n",
      "  Downloading lxml-5.0.1-cp312-cp312-macosx_11_0_universal2.whl.metadata (3.6 kB)\n",
      "Downloading lxml-5.0.1-cp312-cp312-macosx_11_0_universal2.whl (8.8 MB)\n",
      "\u001b[2K   \u001b[90m━━━━━━━━━━━━━━━━━━━━━━━━━━━━━━━━━━━━━━━━\u001b[0m \u001b[32m8.8/8.8 MB\u001b[0m \u001b[31m50.6 MB/s\u001b[0m eta \u001b[36m0:00:00\u001b[0ma \u001b[36m0:00:01\u001b[0m\n",
      "\u001b[?25hInstalling collected packages: lxml\n",
      "Successfully installed lxml-5.0.1\n",
      "\n",
      "\u001b[1m[\u001b[0m\u001b[34;49mnotice\u001b[0m\u001b[1;39;49m]\u001b[0m\u001b[39;49m A new release of pip is available: \u001b[0m\u001b[31;49m23.3.1\u001b[0m\u001b[39;49m -> \u001b[0m\u001b[32;49m23.3.2\u001b[0m\n",
      "\u001b[1m[\u001b[0m\u001b[34;49mnotice\u001b[0m\u001b[1;39;49m]\u001b[0m\u001b[39;49m To update, run: \u001b[0m\u001b[32;49m/opt/homebrew/Cellar/jupyterlab/4.0.10/libexec/bin/python -m pip install --upgrade pip\u001b[0m\n",
      "Note: you may need to restart the kernel to use updated packages.\n"
     ]
    }
   ],
   "source": [
    "pip install lxml"
   ]
  },
  {
   "cell_type": "code",
   "execution_count": 84,
   "id": "fc76c52b-3a08-4005-8613-ee14994ba63b",
   "metadata": {},
   "outputs": [
    {
     "name": "stderr",
     "output_type": "stream",
     "text": [
      "/var/folders/x_/f90km48x06x0wtfpr0xmjvxc0000gn/T/ipykernel_13046/3926507479.py:3: FutureWarning: Passing literal html to 'read_html' is deprecated and will be removed in a future version. To read from a literal string, wrap it in a 'StringIO' object.\n",
      "  usd = pd.concat([pd.read_html(requests.get(url.format(x)).text)[0] for x in range(1,101)])\n",
      "/var/folders/x_/f90km48x06x0wtfpr0xmjvxc0000gn/T/ipykernel_13046/3926507479.py:3: FutureWarning: Passing literal html to 'read_html' is deprecated and will be removed in a future version. To read from a literal string, wrap it in a 'StringIO' object.\n",
      "  usd = pd.concat([pd.read_html(requests.get(url.format(x)).text)[0] for x in range(1,101)])\n",
      "/var/folders/x_/f90km48x06x0wtfpr0xmjvxc0000gn/T/ipykernel_13046/3926507479.py:3: FutureWarning: Passing literal html to 'read_html' is deprecated and will be removed in a future version. To read from a literal string, wrap it in a 'StringIO' object.\n",
      "  usd = pd.concat([pd.read_html(requests.get(url.format(x)).text)[0] for x in range(1,101)])\n",
      "/var/folders/x_/f90km48x06x0wtfpr0xmjvxc0000gn/T/ipykernel_13046/3926507479.py:3: FutureWarning: Passing literal html to 'read_html' is deprecated and will be removed in a future version. To read from a literal string, wrap it in a 'StringIO' object.\n",
      "  usd = pd.concat([pd.read_html(requests.get(url.format(x)).text)[0] for x in range(1,101)])\n",
      "/var/folders/x_/f90km48x06x0wtfpr0xmjvxc0000gn/T/ipykernel_13046/3926507479.py:3: FutureWarning: Passing literal html to 'read_html' is deprecated and will be removed in a future version. To read from a literal string, wrap it in a 'StringIO' object.\n",
      "  usd = pd.concat([pd.read_html(requests.get(url.format(x)).text)[0] for x in range(1,101)])\n",
      "/var/folders/x_/f90km48x06x0wtfpr0xmjvxc0000gn/T/ipykernel_13046/3926507479.py:3: FutureWarning: Passing literal html to 'read_html' is deprecated and will be removed in a future version. To read from a literal string, wrap it in a 'StringIO' object.\n",
      "  usd = pd.concat([pd.read_html(requests.get(url.format(x)).text)[0] for x in range(1,101)])\n",
      "/var/folders/x_/f90km48x06x0wtfpr0xmjvxc0000gn/T/ipykernel_13046/3926507479.py:3: FutureWarning: Passing literal html to 'read_html' is deprecated and will be removed in a future version. To read from a literal string, wrap it in a 'StringIO' object.\n",
      "  usd = pd.concat([pd.read_html(requests.get(url.format(x)).text)[0] for x in range(1,101)])\n",
      "/var/folders/x_/f90km48x06x0wtfpr0xmjvxc0000gn/T/ipykernel_13046/3926507479.py:3: FutureWarning: Passing literal html to 'read_html' is deprecated and will be removed in a future version. To read from a literal string, wrap it in a 'StringIO' object.\n",
      "  usd = pd.concat([pd.read_html(requests.get(url.format(x)).text)[0] for x in range(1,101)])\n",
      "/var/folders/x_/f90km48x06x0wtfpr0xmjvxc0000gn/T/ipykernel_13046/3926507479.py:3: FutureWarning: Passing literal html to 'read_html' is deprecated and will be removed in a future version. To read from a literal string, wrap it in a 'StringIO' object.\n",
      "  usd = pd.concat([pd.read_html(requests.get(url.format(x)).text)[0] for x in range(1,101)])\n",
      "/var/folders/x_/f90km48x06x0wtfpr0xmjvxc0000gn/T/ipykernel_13046/3926507479.py:3: FutureWarning: Passing literal html to 'read_html' is deprecated and will be removed in a future version. To read from a literal string, wrap it in a 'StringIO' object.\n",
      "  usd = pd.concat([pd.read_html(requests.get(url.format(x)).text)[0] for x in range(1,101)])\n",
      "/var/folders/x_/f90km48x06x0wtfpr0xmjvxc0000gn/T/ipykernel_13046/3926507479.py:3: FutureWarning: Passing literal html to 'read_html' is deprecated and will be removed in a future version. To read from a literal string, wrap it in a 'StringIO' object.\n",
      "  usd = pd.concat([pd.read_html(requests.get(url.format(x)).text)[0] for x in range(1,101)])\n",
      "/var/folders/x_/f90km48x06x0wtfpr0xmjvxc0000gn/T/ipykernel_13046/3926507479.py:3: FutureWarning: Passing literal html to 'read_html' is deprecated and will be removed in a future version. To read from a literal string, wrap it in a 'StringIO' object.\n",
      "  usd = pd.concat([pd.read_html(requests.get(url.format(x)).text)[0] for x in range(1,101)])\n",
      "/var/folders/x_/f90km48x06x0wtfpr0xmjvxc0000gn/T/ipykernel_13046/3926507479.py:3: FutureWarning: Passing literal html to 'read_html' is deprecated and will be removed in a future version. To read from a literal string, wrap it in a 'StringIO' object.\n",
      "  usd = pd.concat([pd.read_html(requests.get(url.format(x)).text)[0] for x in range(1,101)])\n",
      "/var/folders/x_/f90km48x06x0wtfpr0xmjvxc0000gn/T/ipykernel_13046/3926507479.py:3: FutureWarning: Passing literal html to 'read_html' is deprecated and will be removed in a future version. To read from a literal string, wrap it in a 'StringIO' object.\n",
      "  usd = pd.concat([pd.read_html(requests.get(url.format(x)).text)[0] for x in range(1,101)])\n",
      "/var/folders/x_/f90km48x06x0wtfpr0xmjvxc0000gn/T/ipykernel_13046/3926507479.py:3: FutureWarning: Passing literal html to 'read_html' is deprecated and will be removed in a future version. To read from a literal string, wrap it in a 'StringIO' object.\n",
      "  usd = pd.concat([pd.read_html(requests.get(url.format(x)).text)[0] for x in range(1,101)])\n",
      "/var/folders/x_/f90km48x06x0wtfpr0xmjvxc0000gn/T/ipykernel_13046/3926507479.py:3: FutureWarning: Passing literal html to 'read_html' is deprecated and will be removed in a future version. To read from a literal string, wrap it in a 'StringIO' object.\n",
      "  usd = pd.concat([pd.read_html(requests.get(url.format(x)).text)[0] for x in range(1,101)])\n",
      "/var/folders/x_/f90km48x06x0wtfpr0xmjvxc0000gn/T/ipykernel_13046/3926507479.py:3: FutureWarning: Passing literal html to 'read_html' is deprecated and will be removed in a future version. To read from a literal string, wrap it in a 'StringIO' object.\n",
      "  usd = pd.concat([pd.read_html(requests.get(url.format(x)).text)[0] for x in range(1,101)])\n",
      "/var/folders/x_/f90km48x06x0wtfpr0xmjvxc0000gn/T/ipykernel_13046/3926507479.py:3: FutureWarning: Passing literal html to 'read_html' is deprecated and will be removed in a future version. To read from a literal string, wrap it in a 'StringIO' object.\n",
      "  usd = pd.concat([pd.read_html(requests.get(url.format(x)).text)[0] for x in range(1,101)])\n",
      "/var/folders/x_/f90km48x06x0wtfpr0xmjvxc0000gn/T/ipykernel_13046/3926507479.py:3: FutureWarning: Passing literal html to 'read_html' is deprecated and will be removed in a future version. To read from a literal string, wrap it in a 'StringIO' object.\n",
      "  usd = pd.concat([pd.read_html(requests.get(url.format(x)).text)[0] for x in range(1,101)])\n",
      "/var/folders/x_/f90km48x06x0wtfpr0xmjvxc0000gn/T/ipykernel_13046/3926507479.py:3: FutureWarning: Passing literal html to 'read_html' is deprecated and will be removed in a future version. To read from a literal string, wrap it in a 'StringIO' object.\n",
      "  usd = pd.concat([pd.read_html(requests.get(url.format(x)).text)[0] for x in range(1,101)])\n",
      "/var/folders/x_/f90km48x06x0wtfpr0xmjvxc0000gn/T/ipykernel_13046/3926507479.py:3: FutureWarning: Passing literal html to 'read_html' is deprecated and will be removed in a future version. To read from a literal string, wrap it in a 'StringIO' object.\n",
      "  usd = pd.concat([pd.read_html(requests.get(url.format(x)).text)[0] for x in range(1,101)])\n",
      "/var/folders/x_/f90km48x06x0wtfpr0xmjvxc0000gn/T/ipykernel_13046/3926507479.py:3: FutureWarning: Passing literal html to 'read_html' is deprecated and will be removed in a future version. To read from a literal string, wrap it in a 'StringIO' object.\n",
      "  usd = pd.concat([pd.read_html(requests.get(url.format(x)).text)[0] for x in range(1,101)])\n",
      "/var/folders/x_/f90km48x06x0wtfpr0xmjvxc0000gn/T/ipykernel_13046/3926507479.py:3: FutureWarning: Passing literal html to 'read_html' is deprecated and will be removed in a future version. To read from a literal string, wrap it in a 'StringIO' object.\n",
      "  usd = pd.concat([pd.read_html(requests.get(url.format(x)).text)[0] for x in range(1,101)])\n",
      "/var/folders/x_/f90km48x06x0wtfpr0xmjvxc0000gn/T/ipykernel_13046/3926507479.py:3: FutureWarning: Passing literal html to 'read_html' is deprecated and will be removed in a future version. To read from a literal string, wrap it in a 'StringIO' object.\n",
      "  usd = pd.concat([pd.read_html(requests.get(url.format(x)).text)[0] for x in range(1,101)])\n",
      "/var/folders/x_/f90km48x06x0wtfpr0xmjvxc0000gn/T/ipykernel_13046/3926507479.py:3: FutureWarning: Passing literal html to 'read_html' is deprecated and will be removed in a future version. To read from a literal string, wrap it in a 'StringIO' object.\n",
      "  usd = pd.concat([pd.read_html(requests.get(url.format(x)).text)[0] for x in range(1,101)])\n",
      "/var/folders/x_/f90km48x06x0wtfpr0xmjvxc0000gn/T/ipykernel_13046/3926507479.py:3: FutureWarning: Passing literal html to 'read_html' is deprecated and will be removed in a future version. To read from a literal string, wrap it in a 'StringIO' object.\n",
      "  usd = pd.concat([pd.read_html(requests.get(url.format(x)).text)[0] for x in range(1,101)])\n",
      "/var/folders/x_/f90km48x06x0wtfpr0xmjvxc0000gn/T/ipykernel_13046/3926507479.py:3: FutureWarning: Passing literal html to 'read_html' is deprecated and will be removed in a future version. To read from a literal string, wrap it in a 'StringIO' object.\n",
      "  usd = pd.concat([pd.read_html(requests.get(url.format(x)).text)[0] for x in range(1,101)])\n",
      "/var/folders/x_/f90km48x06x0wtfpr0xmjvxc0000gn/T/ipykernel_13046/3926507479.py:3: FutureWarning: Passing literal html to 'read_html' is deprecated and will be removed in a future version. To read from a literal string, wrap it in a 'StringIO' object.\n",
      "  usd = pd.concat([pd.read_html(requests.get(url.format(x)).text)[0] for x in range(1,101)])\n",
      "/var/folders/x_/f90km48x06x0wtfpr0xmjvxc0000gn/T/ipykernel_13046/3926507479.py:3: FutureWarning: Passing literal html to 'read_html' is deprecated and will be removed in a future version. To read from a literal string, wrap it in a 'StringIO' object.\n",
      "  usd = pd.concat([pd.read_html(requests.get(url.format(x)).text)[0] for x in range(1,101)])\n",
      "/var/folders/x_/f90km48x06x0wtfpr0xmjvxc0000gn/T/ipykernel_13046/3926507479.py:3: FutureWarning: Passing literal html to 'read_html' is deprecated and will be removed in a future version. To read from a literal string, wrap it in a 'StringIO' object.\n",
      "  usd = pd.concat([pd.read_html(requests.get(url.format(x)).text)[0] for x in range(1,101)])\n",
      "/var/folders/x_/f90km48x06x0wtfpr0xmjvxc0000gn/T/ipykernel_13046/3926507479.py:3: FutureWarning: Passing literal html to 'read_html' is deprecated and will be removed in a future version. To read from a literal string, wrap it in a 'StringIO' object.\n",
      "  usd = pd.concat([pd.read_html(requests.get(url.format(x)).text)[0] for x in range(1,101)])\n",
      "/var/folders/x_/f90km48x06x0wtfpr0xmjvxc0000gn/T/ipykernel_13046/3926507479.py:3: FutureWarning: Passing literal html to 'read_html' is deprecated and will be removed in a future version. To read from a literal string, wrap it in a 'StringIO' object.\n",
      "  usd = pd.concat([pd.read_html(requests.get(url.format(x)).text)[0] for x in range(1,101)])\n",
      "/var/folders/x_/f90km48x06x0wtfpr0xmjvxc0000gn/T/ipykernel_13046/3926507479.py:3: FutureWarning: Passing literal html to 'read_html' is deprecated and will be removed in a future version. To read from a literal string, wrap it in a 'StringIO' object.\n",
      "  usd = pd.concat([pd.read_html(requests.get(url.format(x)).text)[0] for x in range(1,101)])\n",
      "/var/folders/x_/f90km48x06x0wtfpr0xmjvxc0000gn/T/ipykernel_13046/3926507479.py:3: FutureWarning: Passing literal html to 'read_html' is deprecated and will be removed in a future version. To read from a literal string, wrap it in a 'StringIO' object.\n",
      "  usd = pd.concat([pd.read_html(requests.get(url.format(x)).text)[0] for x in range(1,101)])\n",
      "/var/folders/x_/f90km48x06x0wtfpr0xmjvxc0000gn/T/ipykernel_13046/3926507479.py:3: FutureWarning: Passing literal html to 'read_html' is deprecated and will be removed in a future version. To read from a literal string, wrap it in a 'StringIO' object.\n",
      "  usd = pd.concat([pd.read_html(requests.get(url.format(x)).text)[0] for x in range(1,101)])\n",
      "/var/folders/x_/f90km48x06x0wtfpr0xmjvxc0000gn/T/ipykernel_13046/3926507479.py:3: FutureWarning: Passing literal html to 'read_html' is deprecated and will be removed in a future version. To read from a literal string, wrap it in a 'StringIO' object.\n",
      "  usd = pd.concat([pd.read_html(requests.get(url.format(x)).text)[0] for x in range(1,101)])\n",
      "/var/folders/x_/f90km48x06x0wtfpr0xmjvxc0000gn/T/ipykernel_13046/3926507479.py:3: FutureWarning: Passing literal html to 'read_html' is deprecated and will be removed in a future version. To read from a literal string, wrap it in a 'StringIO' object.\n",
      "  usd = pd.concat([pd.read_html(requests.get(url.format(x)).text)[0] for x in range(1,101)])\n",
      "/var/folders/x_/f90km48x06x0wtfpr0xmjvxc0000gn/T/ipykernel_13046/3926507479.py:3: FutureWarning: Passing literal html to 'read_html' is deprecated and will be removed in a future version. To read from a literal string, wrap it in a 'StringIO' object.\n",
      "  usd = pd.concat([pd.read_html(requests.get(url.format(x)).text)[0] for x in range(1,101)])\n",
      "/var/folders/x_/f90km48x06x0wtfpr0xmjvxc0000gn/T/ipykernel_13046/3926507479.py:3: FutureWarning: Passing literal html to 'read_html' is deprecated and will be removed in a future version. To read from a literal string, wrap it in a 'StringIO' object.\n",
      "  usd = pd.concat([pd.read_html(requests.get(url.format(x)).text)[0] for x in range(1,101)])\n",
      "/var/folders/x_/f90km48x06x0wtfpr0xmjvxc0000gn/T/ipykernel_13046/3926507479.py:3: FutureWarning: Passing literal html to 'read_html' is deprecated and will be removed in a future version. To read from a literal string, wrap it in a 'StringIO' object.\n",
      "  usd = pd.concat([pd.read_html(requests.get(url.format(x)).text)[0] for x in range(1,101)])\n",
      "/var/folders/x_/f90km48x06x0wtfpr0xmjvxc0000gn/T/ipykernel_13046/3926507479.py:3: FutureWarning: Passing literal html to 'read_html' is deprecated and will be removed in a future version. To read from a literal string, wrap it in a 'StringIO' object.\n",
      "  usd = pd.concat([pd.read_html(requests.get(url.format(x)).text)[0] for x in range(1,101)])\n",
      "/var/folders/x_/f90km48x06x0wtfpr0xmjvxc0000gn/T/ipykernel_13046/3926507479.py:3: FutureWarning: Passing literal html to 'read_html' is deprecated and will be removed in a future version. To read from a literal string, wrap it in a 'StringIO' object.\n",
      "  usd = pd.concat([pd.read_html(requests.get(url.format(x)).text)[0] for x in range(1,101)])\n",
      "/var/folders/x_/f90km48x06x0wtfpr0xmjvxc0000gn/T/ipykernel_13046/3926507479.py:3: FutureWarning: Passing literal html to 'read_html' is deprecated and will be removed in a future version. To read from a literal string, wrap it in a 'StringIO' object.\n",
      "  usd = pd.concat([pd.read_html(requests.get(url.format(x)).text)[0] for x in range(1,101)])\n",
      "/var/folders/x_/f90km48x06x0wtfpr0xmjvxc0000gn/T/ipykernel_13046/3926507479.py:3: FutureWarning: Passing literal html to 'read_html' is deprecated and will be removed in a future version. To read from a literal string, wrap it in a 'StringIO' object.\n",
      "  usd = pd.concat([pd.read_html(requests.get(url.format(x)).text)[0] for x in range(1,101)])\n",
      "/var/folders/x_/f90km48x06x0wtfpr0xmjvxc0000gn/T/ipykernel_13046/3926507479.py:3: FutureWarning: Passing literal html to 'read_html' is deprecated and will be removed in a future version. To read from a literal string, wrap it in a 'StringIO' object.\n",
      "  usd = pd.concat([pd.read_html(requests.get(url.format(x)).text)[0] for x in range(1,101)])\n",
      "/var/folders/x_/f90km48x06x0wtfpr0xmjvxc0000gn/T/ipykernel_13046/3926507479.py:3: FutureWarning: Passing literal html to 'read_html' is deprecated and will be removed in a future version. To read from a literal string, wrap it in a 'StringIO' object.\n",
      "  usd = pd.concat([pd.read_html(requests.get(url.format(x)).text)[0] for x in range(1,101)])\n",
      "/var/folders/x_/f90km48x06x0wtfpr0xmjvxc0000gn/T/ipykernel_13046/3926507479.py:3: FutureWarning: Passing literal html to 'read_html' is deprecated and will be removed in a future version. To read from a literal string, wrap it in a 'StringIO' object.\n",
      "  usd = pd.concat([pd.read_html(requests.get(url.format(x)).text)[0] for x in range(1,101)])\n",
      "/var/folders/x_/f90km48x06x0wtfpr0xmjvxc0000gn/T/ipykernel_13046/3926507479.py:3: FutureWarning: Passing literal html to 'read_html' is deprecated and will be removed in a future version. To read from a literal string, wrap it in a 'StringIO' object.\n",
      "  usd = pd.concat([pd.read_html(requests.get(url.format(x)).text)[0] for x in range(1,101)])\n",
      "/var/folders/x_/f90km48x06x0wtfpr0xmjvxc0000gn/T/ipykernel_13046/3926507479.py:3: FutureWarning: Passing literal html to 'read_html' is deprecated and will be removed in a future version. To read from a literal string, wrap it in a 'StringIO' object.\n",
      "  usd = pd.concat([pd.read_html(requests.get(url.format(x)).text)[0] for x in range(1,101)])\n",
      "/var/folders/x_/f90km48x06x0wtfpr0xmjvxc0000gn/T/ipykernel_13046/3926507479.py:3: FutureWarning: Passing literal html to 'read_html' is deprecated and will be removed in a future version. To read from a literal string, wrap it in a 'StringIO' object.\n",
      "  usd = pd.concat([pd.read_html(requests.get(url.format(x)).text)[0] for x in range(1,101)])\n",
      "/var/folders/x_/f90km48x06x0wtfpr0xmjvxc0000gn/T/ipykernel_13046/3926507479.py:3: FutureWarning: Passing literal html to 'read_html' is deprecated and will be removed in a future version. To read from a literal string, wrap it in a 'StringIO' object.\n",
      "  usd = pd.concat([pd.read_html(requests.get(url.format(x)).text)[0] for x in range(1,101)])\n",
      "/var/folders/x_/f90km48x06x0wtfpr0xmjvxc0000gn/T/ipykernel_13046/3926507479.py:3: FutureWarning: Passing literal html to 'read_html' is deprecated and will be removed in a future version. To read from a literal string, wrap it in a 'StringIO' object.\n",
      "  usd = pd.concat([pd.read_html(requests.get(url.format(x)).text)[0] for x in range(1,101)])\n",
      "/var/folders/x_/f90km48x06x0wtfpr0xmjvxc0000gn/T/ipykernel_13046/3926507479.py:3: FutureWarning: Passing literal html to 'read_html' is deprecated and will be removed in a future version. To read from a literal string, wrap it in a 'StringIO' object.\n",
      "  usd = pd.concat([pd.read_html(requests.get(url.format(x)).text)[0] for x in range(1,101)])\n",
      "/var/folders/x_/f90km48x06x0wtfpr0xmjvxc0000gn/T/ipykernel_13046/3926507479.py:3: FutureWarning: Passing literal html to 'read_html' is deprecated and will be removed in a future version. To read from a literal string, wrap it in a 'StringIO' object.\n",
      "  usd = pd.concat([pd.read_html(requests.get(url.format(x)).text)[0] for x in range(1,101)])\n",
      "/var/folders/x_/f90km48x06x0wtfpr0xmjvxc0000gn/T/ipykernel_13046/3926507479.py:3: FutureWarning: Passing literal html to 'read_html' is deprecated and will be removed in a future version. To read from a literal string, wrap it in a 'StringIO' object.\n",
      "  usd = pd.concat([pd.read_html(requests.get(url.format(x)).text)[0] for x in range(1,101)])\n",
      "/var/folders/x_/f90km48x06x0wtfpr0xmjvxc0000gn/T/ipykernel_13046/3926507479.py:3: FutureWarning: Passing literal html to 'read_html' is deprecated and will be removed in a future version. To read from a literal string, wrap it in a 'StringIO' object.\n",
      "  usd = pd.concat([pd.read_html(requests.get(url.format(x)).text)[0] for x in range(1,101)])\n",
      "/var/folders/x_/f90km48x06x0wtfpr0xmjvxc0000gn/T/ipykernel_13046/3926507479.py:3: FutureWarning: Passing literal html to 'read_html' is deprecated and will be removed in a future version. To read from a literal string, wrap it in a 'StringIO' object.\n",
      "  usd = pd.concat([pd.read_html(requests.get(url.format(x)).text)[0] for x in range(1,101)])\n",
      "/var/folders/x_/f90km48x06x0wtfpr0xmjvxc0000gn/T/ipykernel_13046/3926507479.py:3: FutureWarning: Passing literal html to 'read_html' is deprecated and will be removed in a future version. To read from a literal string, wrap it in a 'StringIO' object.\n",
      "  usd = pd.concat([pd.read_html(requests.get(url.format(x)).text)[0] for x in range(1,101)])\n",
      "/var/folders/x_/f90km48x06x0wtfpr0xmjvxc0000gn/T/ipykernel_13046/3926507479.py:3: FutureWarning: Passing literal html to 'read_html' is deprecated and will be removed in a future version. To read from a literal string, wrap it in a 'StringIO' object.\n",
      "  usd = pd.concat([pd.read_html(requests.get(url.format(x)).text)[0] for x in range(1,101)])\n",
      "/var/folders/x_/f90km48x06x0wtfpr0xmjvxc0000gn/T/ipykernel_13046/3926507479.py:3: FutureWarning: Passing literal html to 'read_html' is deprecated and will be removed in a future version. To read from a literal string, wrap it in a 'StringIO' object.\n",
      "  usd = pd.concat([pd.read_html(requests.get(url.format(x)).text)[0] for x in range(1,101)])\n",
      "/var/folders/x_/f90km48x06x0wtfpr0xmjvxc0000gn/T/ipykernel_13046/3926507479.py:3: FutureWarning: Passing literal html to 'read_html' is deprecated and will be removed in a future version. To read from a literal string, wrap it in a 'StringIO' object.\n",
      "  usd = pd.concat([pd.read_html(requests.get(url.format(x)).text)[0] for x in range(1,101)])\n",
      "/var/folders/x_/f90km48x06x0wtfpr0xmjvxc0000gn/T/ipykernel_13046/3926507479.py:3: FutureWarning: Passing literal html to 'read_html' is deprecated and will be removed in a future version. To read from a literal string, wrap it in a 'StringIO' object.\n",
      "  usd = pd.concat([pd.read_html(requests.get(url.format(x)).text)[0] for x in range(1,101)])\n",
      "/var/folders/x_/f90km48x06x0wtfpr0xmjvxc0000gn/T/ipykernel_13046/3926507479.py:3: FutureWarning: Passing literal html to 'read_html' is deprecated and will be removed in a future version. To read from a literal string, wrap it in a 'StringIO' object.\n",
      "  usd = pd.concat([pd.read_html(requests.get(url.format(x)).text)[0] for x in range(1,101)])\n",
      "/var/folders/x_/f90km48x06x0wtfpr0xmjvxc0000gn/T/ipykernel_13046/3926507479.py:3: FutureWarning: Passing literal html to 'read_html' is deprecated and will be removed in a future version. To read from a literal string, wrap it in a 'StringIO' object.\n",
      "  usd = pd.concat([pd.read_html(requests.get(url.format(x)).text)[0] for x in range(1,101)])\n",
      "/var/folders/x_/f90km48x06x0wtfpr0xmjvxc0000gn/T/ipykernel_13046/3926507479.py:3: FutureWarning: Passing literal html to 'read_html' is deprecated and will be removed in a future version. To read from a literal string, wrap it in a 'StringIO' object.\n",
      "  usd = pd.concat([pd.read_html(requests.get(url.format(x)).text)[0] for x in range(1,101)])\n",
      "/var/folders/x_/f90km48x06x0wtfpr0xmjvxc0000gn/T/ipykernel_13046/3926507479.py:3: FutureWarning: Passing literal html to 'read_html' is deprecated and will be removed in a future version. To read from a literal string, wrap it in a 'StringIO' object.\n",
      "  usd = pd.concat([pd.read_html(requests.get(url.format(x)).text)[0] for x in range(1,101)])\n",
      "/var/folders/x_/f90km48x06x0wtfpr0xmjvxc0000gn/T/ipykernel_13046/3926507479.py:3: FutureWarning: Passing literal html to 'read_html' is deprecated and will be removed in a future version. To read from a literal string, wrap it in a 'StringIO' object.\n",
      "  usd = pd.concat([pd.read_html(requests.get(url.format(x)).text)[0] for x in range(1,101)])\n",
      "/var/folders/x_/f90km48x06x0wtfpr0xmjvxc0000gn/T/ipykernel_13046/3926507479.py:3: FutureWarning: Passing literal html to 'read_html' is deprecated and will be removed in a future version. To read from a literal string, wrap it in a 'StringIO' object.\n",
      "  usd = pd.concat([pd.read_html(requests.get(url.format(x)).text)[0] for x in range(1,101)])\n",
      "/var/folders/x_/f90km48x06x0wtfpr0xmjvxc0000gn/T/ipykernel_13046/3926507479.py:3: FutureWarning: Passing literal html to 'read_html' is deprecated and will be removed in a future version. To read from a literal string, wrap it in a 'StringIO' object.\n",
      "  usd = pd.concat([pd.read_html(requests.get(url.format(x)).text)[0] for x in range(1,101)])\n",
      "/var/folders/x_/f90km48x06x0wtfpr0xmjvxc0000gn/T/ipykernel_13046/3926507479.py:3: FutureWarning: Passing literal html to 'read_html' is deprecated and will be removed in a future version. To read from a literal string, wrap it in a 'StringIO' object.\n",
      "  usd = pd.concat([pd.read_html(requests.get(url.format(x)).text)[0] for x in range(1,101)])\n",
      "/var/folders/x_/f90km48x06x0wtfpr0xmjvxc0000gn/T/ipykernel_13046/3926507479.py:3: FutureWarning: Passing literal html to 'read_html' is deprecated and will be removed in a future version. To read from a literal string, wrap it in a 'StringIO' object.\n",
      "  usd = pd.concat([pd.read_html(requests.get(url.format(x)).text)[0] for x in range(1,101)])\n",
      "/var/folders/x_/f90km48x06x0wtfpr0xmjvxc0000gn/T/ipykernel_13046/3926507479.py:3: FutureWarning: Passing literal html to 'read_html' is deprecated and will be removed in a future version. To read from a literal string, wrap it in a 'StringIO' object.\n",
      "  usd = pd.concat([pd.read_html(requests.get(url.format(x)).text)[0] for x in range(1,101)])\n",
      "/var/folders/x_/f90km48x06x0wtfpr0xmjvxc0000gn/T/ipykernel_13046/3926507479.py:3: FutureWarning: Passing literal html to 'read_html' is deprecated and will be removed in a future version. To read from a literal string, wrap it in a 'StringIO' object.\n",
      "  usd = pd.concat([pd.read_html(requests.get(url.format(x)).text)[0] for x in range(1,101)])\n",
      "/var/folders/x_/f90km48x06x0wtfpr0xmjvxc0000gn/T/ipykernel_13046/3926507479.py:3: FutureWarning: Passing literal html to 'read_html' is deprecated and will be removed in a future version. To read from a literal string, wrap it in a 'StringIO' object.\n",
      "  usd = pd.concat([pd.read_html(requests.get(url.format(x)).text)[0] for x in range(1,101)])\n",
      "/var/folders/x_/f90km48x06x0wtfpr0xmjvxc0000gn/T/ipykernel_13046/3926507479.py:3: FutureWarning: Passing literal html to 'read_html' is deprecated and will be removed in a future version. To read from a literal string, wrap it in a 'StringIO' object.\n",
      "  usd = pd.concat([pd.read_html(requests.get(url.format(x)).text)[0] for x in range(1,101)])\n",
      "/var/folders/x_/f90km48x06x0wtfpr0xmjvxc0000gn/T/ipykernel_13046/3926507479.py:3: FutureWarning: Passing literal html to 'read_html' is deprecated and will be removed in a future version. To read from a literal string, wrap it in a 'StringIO' object.\n",
      "  usd = pd.concat([pd.read_html(requests.get(url.format(x)).text)[0] for x in range(1,101)])\n",
      "/var/folders/x_/f90km48x06x0wtfpr0xmjvxc0000gn/T/ipykernel_13046/3926507479.py:3: FutureWarning: Passing literal html to 'read_html' is deprecated and will be removed in a future version. To read from a literal string, wrap it in a 'StringIO' object.\n",
      "  usd = pd.concat([pd.read_html(requests.get(url.format(x)).text)[0] for x in range(1,101)])\n",
      "/var/folders/x_/f90km48x06x0wtfpr0xmjvxc0000gn/T/ipykernel_13046/3926507479.py:3: FutureWarning: Passing literal html to 'read_html' is deprecated and will be removed in a future version. To read from a literal string, wrap it in a 'StringIO' object.\n",
      "  usd = pd.concat([pd.read_html(requests.get(url.format(x)).text)[0] for x in range(1,101)])\n",
      "/var/folders/x_/f90km48x06x0wtfpr0xmjvxc0000gn/T/ipykernel_13046/3926507479.py:3: FutureWarning: Passing literal html to 'read_html' is deprecated and will be removed in a future version. To read from a literal string, wrap it in a 'StringIO' object.\n",
      "  usd = pd.concat([pd.read_html(requests.get(url.format(x)).text)[0] for x in range(1,101)])\n",
      "/var/folders/x_/f90km48x06x0wtfpr0xmjvxc0000gn/T/ipykernel_13046/3926507479.py:3: FutureWarning: Passing literal html to 'read_html' is deprecated and will be removed in a future version. To read from a literal string, wrap it in a 'StringIO' object.\n",
      "  usd = pd.concat([pd.read_html(requests.get(url.format(x)).text)[0] for x in range(1,101)])\n",
      "/var/folders/x_/f90km48x06x0wtfpr0xmjvxc0000gn/T/ipykernel_13046/3926507479.py:3: FutureWarning: Passing literal html to 'read_html' is deprecated and will be removed in a future version. To read from a literal string, wrap it in a 'StringIO' object.\n",
      "  usd = pd.concat([pd.read_html(requests.get(url.format(x)).text)[0] for x in range(1,101)])\n",
      "/var/folders/x_/f90km48x06x0wtfpr0xmjvxc0000gn/T/ipykernel_13046/3926507479.py:3: FutureWarning: Passing literal html to 'read_html' is deprecated and will be removed in a future version. To read from a literal string, wrap it in a 'StringIO' object.\n",
      "  usd = pd.concat([pd.read_html(requests.get(url.format(x)).text)[0] for x in range(1,101)])\n",
      "/var/folders/x_/f90km48x06x0wtfpr0xmjvxc0000gn/T/ipykernel_13046/3926507479.py:3: FutureWarning: Passing literal html to 'read_html' is deprecated and will be removed in a future version. To read from a literal string, wrap it in a 'StringIO' object.\n",
      "  usd = pd.concat([pd.read_html(requests.get(url.format(x)).text)[0] for x in range(1,101)])\n",
      "/var/folders/x_/f90km48x06x0wtfpr0xmjvxc0000gn/T/ipykernel_13046/3926507479.py:3: FutureWarning: Passing literal html to 'read_html' is deprecated and will be removed in a future version. To read from a literal string, wrap it in a 'StringIO' object.\n",
      "  usd = pd.concat([pd.read_html(requests.get(url.format(x)).text)[0] for x in range(1,101)])\n",
      "/var/folders/x_/f90km48x06x0wtfpr0xmjvxc0000gn/T/ipykernel_13046/3926507479.py:3: FutureWarning: Passing literal html to 'read_html' is deprecated and will be removed in a future version. To read from a literal string, wrap it in a 'StringIO' object.\n",
      "  usd = pd.concat([pd.read_html(requests.get(url.format(x)).text)[0] for x in range(1,101)])\n",
      "/var/folders/x_/f90km48x06x0wtfpr0xmjvxc0000gn/T/ipykernel_13046/3926507479.py:3: FutureWarning: Passing literal html to 'read_html' is deprecated and will be removed in a future version. To read from a literal string, wrap it in a 'StringIO' object.\n",
      "  usd = pd.concat([pd.read_html(requests.get(url.format(x)).text)[0] for x in range(1,101)])\n",
      "/var/folders/x_/f90km48x06x0wtfpr0xmjvxc0000gn/T/ipykernel_13046/3926507479.py:3: FutureWarning: Passing literal html to 'read_html' is deprecated and will be removed in a future version. To read from a literal string, wrap it in a 'StringIO' object.\n",
      "  usd = pd.concat([pd.read_html(requests.get(url.format(x)).text)[0] for x in range(1,101)])\n",
      "/var/folders/x_/f90km48x06x0wtfpr0xmjvxc0000gn/T/ipykernel_13046/3926507479.py:3: FutureWarning: Passing literal html to 'read_html' is deprecated and will be removed in a future version. To read from a literal string, wrap it in a 'StringIO' object.\n",
      "  usd = pd.concat([pd.read_html(requests.get(url.format(x)).text)[0] for x in range(1,101)])\n",
      "/var/folders/x_/f90km48x06x0wtfpr0xmjvxc0000gn/T/ipykernel_13046/3926507479.py:3: FutureWarning: Passing literal html to 'read_html' is deprecated and will be removed in a future version. To read from a literal string, wrap it in a 'StringIO' object.\n",
      "  usd = pd.concat([pd.read_html(requests.get(url.format(x)).text)[0] for x in range(1,101)])\n",
      "/var/folders/x_/f90km48x06x0wtfpr0xmjvxc0000gn/T/ipykernel_13046/3926507479.py:3: FutureWarning: Passing literal html to 'read_html' is deprecated and will be removed in a future version. To read from a literal string, wrap it in a 'StringIO' object.\n",
      "  usd = pd.concat([pd.read_html(requests.get(url.format(x)).text)[0] for x in range(1,101)])\n",
      "/var/folders/x_/f90km48x06x0wtfpr0xmjvxc0000gn/T/ipykernel_13046/3926507479.py:3: FutureWarning: Passing literal html to 'read_html' is deprecated and will be removed in a future version. To read from a literal string, wrap it in a 'StringIO' object.\n",
      "  usd = pd.concat([pd.read_html(requests.get(url.format(x)).text)[0] for x in range(1,101)])\n",
      "/var/folders/x_/f90km48x06x0wtfpr0xmjvxc0000gn/T/ipykernel_13046/3926507479.py:3: FutureWarning: Passing literal html to 'read_html' is deprecated and will be removed in a future version. To read from a literal string, wrap it in a 'StringIO' object.\n",
      "  usd = pd.concat([pd.read_html(requests.get(url.format(x)).text)[0] for x in range(1,101)])\n",
      "/var/folders/x_/f90km48x06x0wtfpr0xmjvxc0000gn/T/ipykernel_13046/3926507479.py:3: FutureWarning: Passing literal html to 'read_html' is deprecated and will be removed in a future version. To read from a literal string, wrap it in a 'StringIO' object.\n",
      "  usd = pd.concat([pd.read_html(requests.get(url.format(x)).text)[0] for x in range(1,101)])\n",
      "/var/folders/x_/f90km48x06x0wtfpr0xmjvxc0000gn/T/ipykernel_13046/3926507479.py:3: FutureWarning: Passing literal html to 'read_html' is deprecated and will be removed in a future version. To read from a literal string, wrap it in a 'StringIO' object.\n",
      "  usd = pd.concat([pd.read_html(requests.get(url.format(x)).text)[0] for x in range(1,101)])\n",
      "/var/folders/x_/f90km48x06x0wtfpr0xmjvxc0000gn/T/ipykernel_13046/3926507479.py:3: FutureWarning: Passing literal html to 'read_html' is deprecated and will be removed in a future version. To read from a literal string, wrap it in a 'StringIO' object.\n",
      "  usd = pd.concat([pd.read_html(requests.get(url.format(x)).text)[0] for x in range(1,101)])\n",
      "/var/folders/x_/f90km48x06x0wtfpr0xmjvxc0000gn/T/ipykernel_13046/3926507479.py:3: FutureWarning: Passing literal html to 'read_html' is deprecated and will be removed in a future version. To read from a literal string, wrap it in a 'StringIO' object.\n",
      "  usd = pd.concat([pd.read_html(requests.get(url.format(x)).text)[0] for x in range(1,101)])\n",
      "/var/folders/x_/f90km48x06x0wtfpr0xmjvxc0000gn/T/ipykernel_13046/3926507479.py:3: FutureWarning: Passing literal html to 'read_html' is deprecated and will be removed in a future version. To read from a literal string, wrap it in a 'StringIO' object.\n",
      "  usd = pd.concat([pd.read_html(requests.get(url.format(x)).text)[0] for x in range(1,101)])\n",
      "/var/folders/x_/f90km48x06x0wtfpr0xmjvxc0000gn/T/ipykernel_13046/3926507479.py:3: FutureWarning: Passing literal html to 'read_html' is deprecated and will be removed in a future version. To read from a literal string, wrap it in a 'StringIO' object.\n",
      "  usd = pd.concat([pd.read_html(requests.get(url.format(x)).text)[0] for x in range(1,101)])\n",
      "/var/folders/x_/f90km48x06x0wtfpr0xmjvxc0000gn/T/ipykernel_13046/3926507479.py:3: FutureWarning: Passing literal html to 'read_html' is deprecated and will be removed in a future version. To read from a literal string, wrap it in a 'StringIO' object.\n",
      "  usd = pd.concat([pd.read_html(requests.get(url.format(x)).text)[0] for x in range(1,101)])\n",
      "/var/folders/x_/f90km48x06x0wtfpr0xmjvxc0000gn/T/ipykernel_13046/3926507479.py:3: FutureWarning: Passing literal html to 'read_html' is deprecated and will be removed in a future version. To read from a literal string, wrap it in a 'StringIO' object.\n",
      "  usd = pd.concat([pd.read_html(requests.get(url.format(x)).text)[0] for x in range(1,101)])\n"
     ]
    },
    {
     "data": {
      "text/plain": [
       "매매기준율    1316.4\n",
       "Name: 0, dtype: float64"
      ]
     },
     "execution_count": 84,
     "metadata": {},
     "output_type": "execute_result"
    }
   ],
   "source": [
    "import requests \n",
    "url = \"https://finance.naver.com/marketindex/exchangeDailyQuote.naver?marketindexCd=FX_USDKRW&page={}\"\n",
    "usd = pd.concat([pd.read_html(requests.get(url.format(x)).text)[0] for x in range(1,101)])"
   ]
  },
  {
   "cell_type": "code",
   "execution_count": 93,
   "id": "84c40357-f2ef-4778-83b4-c369ee93554e",
   "metadata": {},
   "outputs": [],
   "source": [
    "dollar = usd['매매기준율']['매매기준율'].iloc[0]"
   ]
  },
  {
   "cell_type": "code",
   "execution_count": 97,
   "id": "1c8f80c2-7f01-4f91-bcc1-dc965b88c777",
   "metadata": {},
   "outputs": [
    {
     "data": {
      "text/plain": [
       "1316.4"
      ]
     },
     "execution_count": 97,
     "metadata": {},
     "output_type": "execute_result"
    }
   ],
   "source": [
    "dollar"
   ]
  },
  {
   "cell_type": "code",
   "execution_count": 98,
   "id": "34cbbae5-6556-4445-83ec-3bd51e272a62",
   "metadata": {},
   "outputs": [
    {
     "name": "stdout",
     "output_type": "stream",
     "text": [
      "Collecting tqdm\n",
      "  Using cached tqdm-4.66.1-py3-none-any.whl.metadata (57 kB)\n",
      "Using cached tqdm-4.66.1-py3-none-any.whl (78 kB)\n",
      "Installing collected packages: tqdm\n",
      "Successfully installed tqdm-4.66.1\n",
      "\n",
      "\u001b[1m[\u001b[0m\u001b[34;49mnotice\u001b[0m\u001b[1;39;49m]\u001b[0m\u001b[39;49m A new release of pip is available: \u001b[0m\u001b[31;49m23.3.1\u001b[0m\u001b[39;49m -> \u001b[0m\u001b[32;49m23.3.2\u001b[0m\n",
      "\u001b[1m[\u001b[0m\u001b[34;49mnotice\u001b[0m\u001b[1;39;49m]\u001b[0m\u001b[39;49m To update, run: \u001b[0m\u001b[32;49m/opt/homebrew/Cellar/jupyterlab/4.0.10/libexec/bin/python -m pip install --upgrade pip\u001b[0m\n",
      "Note: you may need to restart the kernel to use updated packages.\n"
     ]
    }
   ],
   "source": [
    "pip install tqdm"
   ]
  },
  {
   "cell_type": "code",
   "execution_count": 99,
   "id": "1b9ab67e-b5ed-46b3-a3a0-74726588abce",
   "metadata": {},
   "outputs": [],
   "source": [
    "import os\n",
    "from tqdm import tqdm"
   ]
  },
  {
   "cell_type": "code",
   "execution_count": 183,
   "id": "c86329ae-00fd-4bbe-8d20-2ecad810415d",
   "metadata": {},
   "outputs": [
    {
     "name": "stderr",
     "output_type": "stream",
     "text": [
      "100%|█████████████████████████████████████████| 912/912 [04:51<00:00,  3.13it/s]\n"
     ]
    }
   ],
   "source": [
    "for id in tqdm(playid):\n",
    "    driver.get(f\"https://www.koreabaseball.com/Record/Player/PitcherDetail/Basic.aspx?playerId={id}\")\n",
    "    df = driver.find_element(By.CSS_SELECTOR, \"#contents > div.sub-content > div.player_info > div.player_basic > ul\").text\n",
    "    df2 = df.split(\"\\n\")\n",
    "    lst = {}\n",
    "\n",
    "    for i in range(df2.__len__()):\n",
    "        a,b = df2[i].split(\":\")  \n",
    "        lst[a] = b\n",
    "    \n",
    "    dff = pd.DataFrame([lst])\n",
    "\n",
    "    dff['신장'] = dff['신장/체중'][0][1:4]\n",
    "    dff['체중'] = dff['신장/체중'][0][7:][:-2]\n",
    "    dff['현재 소속팀'] = driver.find_element(By.CSS_SELECTOR, \"#h4Team\").text\n",
    "    if \"달러\" in dff[\"연봉\"][0]:\n",
    "        dff[\"연봉(만원)\"] = int(dff[\"연봉\"][0][1:-2])*(int(dollar)/10000)\n",
    "        if dff[\"입단 계약금\"][0] != \"\" :\n",
    "            dff[\"입단 계약금(만원)\"] = int(dff[\"입단 계약금\"][0][1:-2])*(int(dollar)/10000)\n",
    "        else :\n",
    "            dff[\"입단 계약금(만원)\"] = 0\n",
    "    else :\n",
    "        if dff[\"연봉\"][0] != \"\" :\n",
    "            dff[\"연봉(만원)\"] = int(dff[\"연봉\"][0][1:-2])\n",
    "        elif dff[\"연봉\"][0] == \"\" :\n",
    "            dff[\"연봉(만원)\"] = 0\n",
    "        if dff[\"입단 계약금\"][0] != \"\" :\n",
    "            dff[\"입단 계약금(만원)\"] = int(dff[\"입단 계약금\"][0][1:-2])\n",
    "        elif dff[\"입단 계약금\"][0] == \"\" :\n",
    "            dff[\"입단 계약금(만원)\"] = 0\n",
    "    dff = dff.drop(['신장/체중','연봉','입단 계약금'], axis=1)\n",
    "    dff.to_csv(f\"./KBO_player/{id}.csv\",index=False,encoding=\"utf-8-sig\")\n",
    "    "
   ]
  },
  {
   "cell_type": "code",
   "execution_count": 177,
   "id": "ddcc9338-188e-476d-b5c3-10b7d4c9bead",
   "metadata": {},
   "outputs": [],
   "source": [
    "driver.get(\"https://www.koreabaseball.com/Record/Player/PitcherDetail/Basic.aspx?playerId=53375\")"
   ]
  },
  {
   "cell_type": "code",
   "execution_count": 179,
   "id": "acd05836-4f5c-4ba6-80f9-9c1b208f9cbf",
   "metadata": {},
   "outputs": [],
   "source": [
    "df = driver.find_element(By.CSS_SELECTOR, \"#h4Team\").text"
   ]
  },
  {
   "cell_type": "code",
   "execution_count": 180,
   "id": "f09bedbd-b31e-4792-ad0d-c4a1917adafe",
   "metadata": {},
   "outputs": [
    {
     "data": {
      "text/plain": [
       "'키움 히어로즈'"
      ]
     },
     "execution_count": 180,
     "metadata": {},
     "output_type": "execute_result"
    }
   ],
   "source": [
    "df"
   ]
  },
  {
   "cell_type": "code",
   "execution_count": 118,
   "id": "92a60414-1c99-4c37-8ce0-015626da855b",
   "metadata": {},
   "outputs": [],
   "source": [
    "df = driver.find_element(By.CSS_SELECTOR, \"#contents > div.sub-content > div.player_info > div.player_basic > ul\").text"
   ]
  },
  {
   "cell_type": "code",
   "execution_count": 119,
   "id": "040592d9-8c09-4786-b193-b8180197fee0",
   "metadata": {},
   "outputs": [],
   "source": [
    "df2 = df.split(\"\\n\")"
   ]
  },
  {
   "cell_type": "code",
   "execution_count": 120,
   "id": "b007dfe9-951c-4a94-bb88-6055b3ece2ce",
   "metadata": {},
   "outputs": [
    {
     "data": {
      "text/plain": [
       "['선수명: 후라도',\n",
       " '등번호: No.75',\n",
       " '생년월일: 1996년 01월 30일',\n",
       " '포지션: 투수(우투우타)',\n",
       " '신장/체중: 188cm/109kg',\n",
       " '경력: 파나마 San Judas Tadeo(고)',\n",
       " '입단 계약금:',\n",
       " '연봉: 850000달러',\n",
       " '지명순위: 23 키움 자유선발',\n",
       " '입단년도: 23키움']"
      ]
     },
     "execution_count": 120,
     "metadata": {},
     "output_type": "execute_result"
    }
   ],
   "source": [
    "df2"
   ]
  },
  {
   "cell_type": "code",
   "execution_count": 121,
   "id": "b7c96706-a9a2-4a45-9260-6c5d7c5c2dd3",
   "metadata": {},
   "outputs": [],
   "source": [
    "lst = {}\n",
    "\n",
    "for i in range(df2.__len__()):\n",
    "    a, b = df2[i].split(\":\")  \n",
    "    lst[a] = b  "
   ]
  },
  {
   "cell_type": "code",
   "execution_count": 122,
   "id": "d68a2bb8-99ef-430e-a63f-5385458cc794",
   "metadata": {
    "scrolled": true
   },
   "outputs": [
    {
     "data": {
      "text/plain": [
       "{'선수명': ' 후라도',\n",
       " '등번호': ' No.75',\n",
       " '생년월일': ' 1996년 01월 30일',\n",
       " '포지션': ' 투수(우투우타)',\n",
       " '신장/체중': ' 188cm/109kg',\n",
       " '경력': ' 파나마 San Judas Tadeo(고)',\n",
       " '입단 계약금': '',\n",
       " '연봉': ' 850000달러',\n",
       " '지명순위': ' 23 키움 자유선발',\n",
       " '입단년도': ' 23키움'}"
      ]
     },
     "execution_count": 122,
     "metadata": {},
     "output_type": "execute_result"
    }
   ],
   "source": [
    "lst"
   ]
  },
  {
   "cell_type": "code",
   "execution_count": 163,
   "id": "78b7571a-6016-4cf6-bd5f-903bc20126a0",
   "metadata": {},
   "outputs": [],
   "source": [
    "dff = pd.DataFrame([lst])"
   ]
  },
  {
   "cell_type": "code",
   "execution_count": 164,
   "id": "f78e9014-3bc0-45bc-8bb4-55d532839270",
   "metadata": {},
   "outputs": [
    {
     "data": {
      "text/plain": [
       "850000"
      ]
     },
     "execution_count": 164,
     "metadata": {},
     "output_type": "execute_result"
    }
   ],
   "source": [
    "int(dff[\"연봉\"][0][1:-2])"
   ]
  },
  {
   "cell_type": "code",
   "execution_count": 166,
   "id": "23f120dc-3ad5-4e5b-9233-e69b7f7be70e",
   "metadata": {},
   "outputs": [
    {
     "name": "stdout",
     "output_type": "stream",
     "text": [
      "aa\n"
     ]
    }
   ],
   "source": [
    "if \"달러\" in dff[\"연봉\"][0]:\n",
    "    print(\"aa\")"
   ]
  },
  {
   "cell_type": "code",
   "execution_count": 135,
   "id": "6019cbd7-8eee-476c-8c37-edec006da4b2",
   "metadata": {},
   "outputs": [
    {
     "data": {
      "text/plain": [
       "1316"
      ]
     },
     "execution_count": 135,
     "metadata": {},
     "output_type": "execute_result"
    }
   ],
   "source": [
    "int(dollar)"
   ]
  },
  {
   "cell_type": "code",
   "execution_count": 161,
   "id": "8bfeb88b-03be-4fb3-a4c8-8450611b26ba",
   "metadata": {},
   "outputs": [],
   "source": [
    "dff[\"연봉\"] = str(int(dff[\"연봉\"][0][1:-2])*(int(dollar)/10000)) + \"만원\"\n",
    "# dff[\"입단 계약금\"] = str(int(dff[\"입단 계약금\"][0][1:-2])*(int(dollar)/10000)) + \"만원\""
   ]
  },
  {
   "cell_type": "code",
   "execution_count": 162,
   "id": "c2b25427-c6dc-47d9-941f-af0bf1c3aec6",
   "metadata": {},
   "outputs": [
    {
     "data": {
      "text/html": [
       "<div>\n",
       "<style scoped>\n",
       "    .dataframe tbody tr th:only-of-type {\n",
       "        vertical-align: middle;\n",
       "    }\n",
       "\n",
       "    .dataframe tbody tr th {\n",
       "        vertical-align: top;\n",
       "    }\n",
       "\n",
       "    .dataframe thead th {\n",
       "        text-align: right;\n",
       "    }\n",
       "</style>\n",
       "<table border=\"1\" class=\"dataframe\">\n",
       "  <thead>\n",
       "    <tr style=\"text-align: right;\">\n",
       "      <th></th>\n",
       "      <th>선수명</th>\n",
       "      <th>등번호</th>\n",
       "      <th>생년월일</th>\n",
       "      <th>포지션</th>\n",
       "      <th>신장/체중</th>\n",
       "      <th>경력</th>\n",
       "      <th>입단 계약금</th>\n",
       "      <th>연봉</th>\n",
       "      <th>지명순위</th>\n",
       "      <th>입단년도</th>\n",
       "    </tr>\n",
       "  </thead>\n",
       "  <tbody>\n",
       "    <tr>\n",
       "      <th>0</th>\n",
       "      <td>후라도</td>\n",
       "      <td>No.75</td>\n",
       "      <td>1996년 01월 30일</td>\n",
       "      <td>투수(우투우타)</td>\n",
       "      <td>188cm/109kg</td>\n",
       "      <td>파나마 San Judas Tadeo(고)</td>\n",
       "      <td></td>\n",
       "      <td>111860.0만원</td>\n",
       "      <td>23 키움 자유선발</td>\n",
       "      <td>23키움</td>\n",
       "    </tr>\n",
       "  </tbody>\n",
       "</table>\n",
       "</div>"
      ],
      "text/plain": [
       "    선수명     등번호            생년월일        포지션         신장/체중  \\\n",
       "0   후라도   No.75   1996년 01월 30일   투수(우투우타)   188cm/109kg   \n",
       "\n",
       "                        경력 입단 계약금          연봉         지명순위   입단년도  \n",
       "0   파나마 San Judas Tadeo(고)         111860.0만원   23 키움 자유선발   23키움  "
      ]
     },
     "execution_count": 162,
     "metadata": {},
     "output_type": "execute_result"
    }
   ],
   "source": [
    "dff"
   ]
  },
  {
   "cell_type": "code",
   "execution_count": 66,
   "id": "7e82d26b-a214-440c-8c2d-dc5f14f55cda",
   "metadata": {},
   "outputs": [
    {
     "name": "stdout",
     "output_type": "stream",
     "text": [
      "Collecting pandas\n",
      "  Using cached pandas-2.1.4-cp312-cp312-macosx_11_0_arm64.whl.metadata (18 kB)\n",
      "Collecting numpy<2,>=1.26.0 (from pandas)\n",
      "  Downloading numpy-1.26.3-cp312-cp312-macosx_11_0_arm64.whl.metadata (61 kB)\n",
      "\u001b[2K     \u001b[90m━━━━━━━━━━━━━━━━━━━━━━━━━━━━━━━━━━━━━━━━\u001b[0m \u001b[32m61.2/61.2 kB\u001b[0m \u001b[31m4.3 MB/s\u001b[0m eta \u001b[36m0:00:00\u001b[0m\n",
      "\u001b[?25hRequirement already satisfied: python-dateutil>=2.8.2 in /opt/homebrew/opt/python-dateutil/lib/python3.12/site-packages (from pandas) (2.8.2)\n",
      "Collecting pytz>=2020.1 (from pandas)\n",
      "  Using cached pytz-2023.3.post1-py2.py3-none-any.whl.metadata (22 kB)\n",
      "Collecting tzdata>=2022.1 (from pandas)\n",
      "  Downloading tzdata-2023.4-py2.py3-none-any.whl.metadata (1.4 kB)\n",
      "Requirement already satisfied: six>=1.5 in /opt/homebrew/opt/six/lib/python3.12/site-packages (from python-dateutil>=2.8.2->pandas) (1.16.0)\n",
      "Using cached pandas-2.1.4-cp312-cp312-macosx_11_0_arm64.whl (10.6 MB)\n",
      "Downloading numpy-1.26.3-cp312-cp312-macosx_11_0_arm64.whl (13.7 MB)\n",
      "\u001b[2K   \u001b[90m━━━━━━━━━━━━━━━━━━━━━━━━━━━━━━━━━━━━━━━━\u001b[0m \u001b[32m13.7/13.7 MB\u001b[0m \u001b[31m57.9 MB/s\u001b[0m eta \u001b[36m0:00:00\u001b[0ma \u001b[36m0:00:01\u001b[0m\n",
      "\u001b[?25hUsing cached pytz-2023.3.post1-py2.py3-none-any.whl (502 kB)\n",
      "Downloading tzdata-2023.4-py2.py3-none-any.whl (346 kB)\n",
      "\u001b[2K   \u001b[90m━━━━━━━━━━━━━━━━━━━━━━━━━━━━━━━━━━━━━━━━\u001b[0m \u001b[32m346.6/346.6 kB\u001b[0m \u001b[31m34.6 MB/s\u001b[0m eta \u001b[36m0:00:00\u001b[0m\n",
      "\u001b[?25hInstalling collected packages: pytz, tzdata, numpy, pandas\n",
      "Successfully installed numpy-1.26.3 pandas-2.1.4 pytz-2023.3.post1 tzdata-2023.4\n",
      "\n",
      "\u001b[1m[\u001b[0m\u001b[34;49mnotice\u001b[0m\u001b[1;39;49m]\u001b[0m\u001b[39;49m A new release of pip is available: \u001b[0m\u001b[31;49m23.3.1\u001b[0m\u001b[39;49m -> \u001b[0m\u001b[32;49m23.3.2\u001b[0m\n",
      "\u001b[1m[\u001b[0m\u001b[34;49mnotice\u001b[0m\u001b[1;39;49m]\u001b[0m\u001b[39;49m To update, run: \u001b[0m\u001b[32;49m/opt/homebrew/Cellar/jupyterlab/4.0.10/libexec/bin/python -m pip install --upgrade pip\u001b[0m\n",
      "Note: you may need to restart the kernel to use updated packages.\n"
     ]
    }
   ],
   "source": [
    "pip install pandas"
   ]
  },
  {
   "cell_type": "code",
   "execution_count": 74,
   "id": "b8454353-1b38-4ae4-85d4-608cd4330d79",
   "metadata": {},
   "outputs": [
    {
     "ename": "ValueError",
     "evalue": "If using all scalar values, you must pass an index",
     "output_type": "error",
     "traceback": [
      "\u001b[0;31m---------------------------------------------------------------------------\u001b[0m",
      "\u001b[0;31mValueError\u001b[0m                                Traceback (most recent call last)",
      "Cell \u001b[0;32mIn[74], line 2\u001b[0m\n\u001b[1;32m      1\u001b[0m \u001b[38;5;28;01mimport\u001b[39;00m \u001b[38;5;21;01mpandas\u001b[39;00m \u001b[38;5;28;01mas\u001b[39;00m \u001b[38;5;21;01mpd\u001b[39;00m\n\u001b[0;32m----> 2\u001b[0m dff \u001b[38;5;241m=\u001b[39m \u001b[43mpd\u001b[49m\u001b[38;5;241;43m.\u001b[39;49m\u001b[43mDataFrame\u001b[49m\u001b[43m(\u001b[49m\u001b[43mlst\u001b[49m\u001b[43m)\u001b[49m\n",
      "File \u001b[0;32m/opt/homebrew/Cellar/jupyterlab/4.0.10/libexec/lib/python3.12/site-packages/pandas/core/frame.py:733\u001b[0m, in \u001b[0;36mDataFrame.__init__\u001b[0;34m(self, data, index, columns, dtype, copy)\u001b[0m\n\u001b[1;32m    727\u001b[0m     mgr \u001b[38;5;241m=\u001b[39m \u001b[38;5;28mself\u001b[39m\u001b[38;5;241m.\u001b[39m_init_mgr(\n\u001b[1;32m    728\u001b[0m         data, axes\u001b[38;5;241m=\u001b[39m{\u001b[38;5;124m\"\u001b[39m\u001b[38;5;124mindex\u001b[39m\u001b[38;5;124m\"\u001b[39m: index, \u001b[38;5;124m\"\u001b[39m\u001b[38;5;124mcolumns\u001b[39m\u001b[38;5;124m\"\u001b[39m: columns}, dtype\u001b[38;5;241m=\u001b[39mdtype, copy\u001b[38;5;241m=\u001b[39mcopy\n\u001b[1;32m    729\u001b[0m     )\n\u001b[1;32m    731\u001b[0m \u001b[38;5;28;01melif\u001b[39;00m \u001b[38;5;28misinstance\u001b[39m(data, \u001b[38;5;28mdict\u001b[39m):\n\u001b[1;32m    732\u001b[0m     \u001b[38;5;66;03m# GH#38939 de facto copy defaults to False only in non-dict cases\u001b[39;00m\n\u001b[0;32m--> 733\u001b[0m     mgr \u001b[38;5;241m=\u001b[39m \u001b[43mdict_to_mgr\u001b[49m\u001b[43m(\u001b[49m\u001b[43mdata\u001b[49m\u001b[43m,\u001b[49m\u001b[43m \u001b[49m\u001b[43mindex\u001b[49m\u001b[43m,\u001b[49m\u001b[43m \u001b[49m\u001b[43mcolumns\u001b[49m\u001b[43m,\u001b[49m\u001b[43m \u001b[49m\u001b[43mdtype\u001b[49m\u001b[38;5;241;43m=\u001b[39;49m\u001b[43mdtype\u001b[49m\u001b[43m,\u001b[49m\u001b[43m \u001b[49m\u001b[43mcopy\u001b[49m\u001b[38;5;241;43m=\u001b[39;49m\u001b[43mcopy\u001b[49m\u001b[43m,\u001b[49m\u001b[43m \u001b[49m\u001b[43mtyp\u001b[49m\u001b[38;5;241;43m=\u001b[39;49m\u001b[43mmanager\u001b[49m\u001b[43m)\u001b[49m\n\u001b[1;32m    734\u001b[0m \u001b[38;5;28;01melif\u001b[39;00m \u001b[38;5;28misinstance\u001b[39m(data, ma\u001b[38;5;241m.\u001b[39mMaskedArray):\n\u001b[1;32m    735\u001b[0m     \u001b[38;5;28;01mfrom\u001b[39;00m \u001b[38;5;21;01mnumpy\u001b[39;00m\u001b[38;5;21;01m.\u001b[39;00m\u001b[38;5;21;01mma\u001b[39;00m \u001b[38;5;28;01mimport\u001b[39;00m mrecords\n",
      "File \u001b[0;32m/opt/homebrew/Cellar/jupyterlab/4.0.10/libexec/lib/python3.12/site-packages/pandas/core/internals/construction.py:503\u001b[0m, in \u001b[0;36mdict_to_mgr\u001b[0;34m(data, index, columns, dtype, typ, copy)\u001b[0m\n\u001b[1;32m    499\u001b[0m     \u001b[38;5;28;01melse\u001b[39;00m:\n\u001b[1;32m    500\u001b[0m         \u001b[38;5;66;03m# dtype check to exclude e.g. range objects, scalars\u001b[39;00m\n\u001b[1;32m    501\u001b[0m         arrays \u001b[38;5;241m=\u001b[39m [x\u001b[38;5;241m.\u001b[39mcopy() \u001b[38;5;28;01mif\u001b[39;00m \u001b[38;5;28mhasattr\u001b[39m(x, \u001b[38;5;124m\"\u001b[39m\u001b[38;5;124mdtype\u001b[39m\u001b[38;5;124m\"\u001b[39m) \u001b[38;5;28;01melse\u001b[39;00m x \u001b[38;5;28;01mfor\u001b[39;00m x \u001b[38;5;129;01min\u001b[39;00m arrays]\n\u001b[0;32m--> 503\u001b[0m \u001b[38;5;28;01mreturn\u001b[39;00m \u001b[43marrays_to_mgr\u001b[49m\u001b[43m(\u001b[49m\u001b[43marrays\u001b[49m\u001b[43m,\u001b[49m\u001b[43m \u001b[49m\u001b[43mcolumns\u001b[49m\u001b[43m,\u001b[49m\u001b[43m \u001b[49m\u001b[43mindex\u001b[49m\u001b[43m,\u001b[49m\u001b[43m \u001b[49m\u001b[43mdtype\u001b[49m\u001b[38;5;241;43m=\u001b[39;49m\u001b[43mdtype\u001b[49m\u001b[43m,\u001b[49m\u001b[43m \u001b[49m\u001b[43mtyp\u001b[49m\u001b[38;5;241;43m=\u001b[39;49m\u001b[43mtyp\u001b[49m\u001b[43m,\u001b[49m\u001b[43m \u001b[49m\u001b[43mconsolidate\u001b[49m\u001b[38;5;241;43m=\u001b[39;49m\u001b[43mcopy\u001b[49m\u001b[43m)\u001b[49m\n",
      "File \u001b[0;32m/opt/homebrew/Cellar/jupyterlab/4.0.10/libexec/lib/python3.12/site-packages/pandas/core/internals/construction.py:114\u001b[0m, in \u001b[0;36marrays_to_mgr\u001b[0;34m(arrays, columns, index, dtype, verify_integrity, typ, consolidate)\u001b[0m\n\u001b[1;32m    111\u001b[0m \u001b[38;5;28;01mif\u001b[39;00m verify_integrity:\n\u001b[1;32m    112\u001b[0m     \u001b[38;5;66;03m# figure out the index, if necessary\u001b[39;00m\n\u001b[1;32m    113\u001b[0m     \u001b[38;5;28;01mif\u001b[39;00m index \u001b[38;5;129;01mis\u001b[39;00m \u001b[38;5;28;01mNone\u001b[39;00m:\n\u001b[0;32m--> 114\u001b[0m         index \u001b[38;5;241m=\u001b[39m \u001b[43m_extract_index\u001b[49m\u001b[43m(\u001b[49m\u001b[43marrays\u001b[49m\u001b[43m)\u001b[49m\n\u001b[1;32m    115\u001b[0m     \u001b[38;5;28;01melse\u001b[39;00m:\n\u001b[1;32m    116\u001b[0m         index \u001b[38;5;241m=\u001b[39m ensure_index(index)\n",
      "File \u001b[0;32m/opt/homebrew/Cellar/jupyterlab/4.0.10/libexec/lib/python3.12/site-packages/pandas/core/internals/construction.py:667\u001b[0m, in \u001b[0;36m_extract_index\u001b[0;34m(data)\u001b[0m\n\u001b[1;32m    664\u001b[0m         \u001b[38;5;28;01mraise\u001b[39;00m \u001b[38;5;167;01mValueError\u001b[39;00m(\u001b[38;5;124m\"\u001b[39m\u001b[38;5;124mPer-column arrays must each be 1-dimensional\u001b[39m\u001b[38;5;124m\"\u001b[39m)\n\u001b[1;32m    666\u001b[0m \u001b[38;5;28;01mif\u001b[39;00m \u001b[38;5;129;01mnot\u001b[39;00m indexes \u001b[38;5;129;01mand\u001b[39;00m \u001b[38;5;129;01mnot\u001b[39;00m raw_lengths:\n\u001b[0;32m--> 667\u001b[0m     \u001b[38;5;28;01mraise\u001b[39;00m \u001b[38;5;167;01mValueError\u001b[39;00m(\u001b[38;5;124m\"\u001b[39m\u001b[38;5;124mIf using all scalar values, you must pass an index\u001b[39m\u001b[38;5;124m\"\u001b[39m)\n\u001b[1;32m    669\u001b[0m \u001b[38;5;28;01mif\u001b[39;00m have_series:\n\u001b[1;32m    670\u001b[0m     index \u001b[38;5;241m=\u001b[39m union_indexes(indexes)\n",
      "\u001b[0;31mValueError\u001b[0m: If using all scalar values, you must pass an index"
     ]
    }
   ],
   "source": [
    "import pandas as pd\n",
    "dff = pd.DataFrame(lst)"
   ]
  },
  {
   "cell_type": "code",
   "execution_count": 75,
   "id": "e0a617ac-75df-4a69-b442-c4eeba067837",
   "metadata": {},
   "outputs": [
    {
     "data": {
      "text/html": [
       "<div>\n",
       "<style scoped>\n",
       "    .dataframe tbody tr th:only-of-type {\n",
       "        vertical-align: middle;\n",
       "    }\n",
       "\n",
       "    .dataframe tbody tr th {\n",
       "        vertical-align: top;\n",
       "    }\n",
       "\n",
       "    .dataframe thead th {\n",
       "        text-align: right;\n",
       "    }\n",
       "</style>\n",
       "<table border=\"1\" class=\"dataframe\">\n",
       "  <thead>\n",
       "    <tr style=\"text-align: right;\">\n",
       "      <th></th>\n",
       "      <th>0</th>\n",
       "      <th>1</th>\n",
       "    </tr>\n",
       "  </thead>\n",
       "  <tbody>\n",
       "    <tr>\n",
       "      <th>0</th>\n",
       "      <td>선수명</td>\n",
       "      <td>정찬헌</td>\n",
       "    </tr>\n",
       "    <tr>\n",
       "      <th>1</th>\n",
       "      <td>등번호</td>\n",
       "      <td>No.58</td>\n",
       "    </tr>\n",
       "    <tr>\n",
       "      <th>2</th>\n",
       "      <td>생년월일</td>\n",
       "      <td>1990년 01월 26일</td>\n",
       "    </tr>\n",
       "    <tr>\n",
       "      <th>3</th>\n",
       "      <td>포지션</td>\n",
       "      <td>투수(우투우타)</td>\n",
       "    </tr>\n",
       "    <tr>\n",
       "      <th>4</th>\n",
       "      <td>신장/체중</td>\n",
       "      <td>186cm/95kg</td>\n",
       "    </tr>\n",
       "    <tr>\n",
       "      <th>5</th>\n",
       "      <td>경력</td>\n",
       "      <td>송정동초-충장중-광주제일고-LG</td>\n",
       "    </tr>\n",
       "    <tr>\n",
       "      <th>6</th>\n",
       "      <td>입단 계약금</td>\n",
       "      <td>30000만원</td>\n",
       "    </tr>\n",
       "    <tr>\n",
       "      <th>7</th>\n",
       "      <td>연봉</td>\n",
       "      <td>20000만원</td>\n",
       "    </tr>\n",
       "    <tr>\n",
       "      <th>8</th>\n",
       "      <td>지명순위</td>\n",
       "      <td>08 LG 2차 1라운드 1순위</td>\n",
       "    </tr>\n",
       "    <tr>\n",
       "      <th>9</th>\n",
       "      <td>입단년도</td>\n",
       "      <td>08LG</td>\n",
       "    </tr>\n",
       "  </tbody>\n",
       "</table>\n",
       "</div>"
      ],
      "text/plain": [
       "        0                  1\n",
       "0     선수명                정찬헌\n",
       "1     등번호              No.58\n",
       "2    생년월일      1990년 01월 26일\n",
       "3     포지션           투수(우투우타)\n",
       "4   신장/체중         186cm/95kg\n",
       "5      경력  송정동초-충장중-광주제일고-LG\n",
       "6  입단 계약금            30000만원\n",
       "7      연봉            20000만원\n",
       "8    지명순위  08 LG 2차 1라운드 1순위\n",
       "9    입단년도               08LG"
      ]
     },
     "execution_count": 75,
     "metadata": {},
     "output_type": "execute_result"
    }
   ],
   "source": [
    "dff"
   ]
  },
  {
   "cell_type": "code",
   "execution_count": null,
   "id": "5c4eb090-8e18-4cf9-bf8b-694b4687ca0e",
   "metadata": {},
   "outputs": [],
   "source": []
  },
  {
   "cell_type": "code",
   "execution_count": null,
   "id": "bead05b1-8fe5-48da-b271-91a39c138b72",
   "metadata": {},
   "outputs": [],
   "source": []
  }
 ],
 "metadata": {
  "kernelspec": {
   "display_name": "Python 3 (ipykernel)",
   "language": "python",
   "name": "python3"
  },
  "language_info": {
   "codemirror_mode": {
    "name": "ipython",
    "version": 3
   },
   "file_extension": ".py",
   "mimetype": "text/x-python",
   "name": "python",
   "nbconvert_exporter": "python",
   "pygments_lexer": "ipython3",
   "version": "3.12.1"
  }
 },
 "nbformat": 4,
 "nbformat_minor": 5
}
