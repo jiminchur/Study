{
 "cells": [
  {
   "cell_type": "code",
   "execution_count": 1,
   "metadata": {},
   "outputs": [
    {
     "name": "stdout",
     "output_type": "stream",
     "text": [
      "Requirement already satisfied: selenium in /opt/homebrew/Cellar/jupyterlab/4.0.10/libexec/lib/python3.12/site-packages (4.16.0)\n",
      "Requirement already satisfied: urllib3<3,>=1.26 in /opt/homebrew/opt/python-urllib3/lib/python3.12/site-packages (from urllib3[socks]<3,>=1.26->selenium) (2.1.0)\n",
      "Requirement already satisfied: trio~=0.17 in /opt/homebrew/Cellar/jupyterlab/4.0.10/libexec/lib/python3.12/site-packages (from selenium) (0.23.2)\n",
      "Requirement already satisfied: trio-websocket~=0.9 in /opt/homebrew/Cellar/jupyterlab/4.0.10/libexec/lib/python3.12/site-packages (from selenium) (0.11.1)\n",
      "Requirement already satisfied: certifi>=2021.10.8 in /opt/homebrew/opt/python-certifi/lib/python3.12/site-packages (from selenium) (2023.11.17)\n",
      "Requirement already satisfied: attrs>=20.1.0 in /opt/homebrew/Cellar/jupyterlab/4.0.10/libexec/lib/python3.12/site-packages (from trio~=0.17->selenium) (23.1.0)\n",
      "Requirement already satisfied: sortedcontainers in /opt/homebrew/Cellar/jupyterlab/4.0.10/libexec/lib/python3.12/site-packages (from trio~=0.17->selenium) (2.4.0)\n",
      "Requirement already satisfied: idna in /opt/homebrew/opt/python-idna/lib/python3.12/site-packages (from trio~=0.17->selenium) (3.6)\n",
      "Requirement already satisfied: outcome in /opt/homebrew/Cellar/jupyterlab/4.0.10/libexec/lib/python3.12/site-packages (from trio~=0.17->selenium) (1.3.0.post0)\n",
      "Requirement already satisfied: sniffio>=1.3.0 in /opt/homebrew/Cellar/jupyterlab/4.0.10/libexec/lib/python3.12/site-packages (from trio~=0.17->selenium) (1.3.0)\n",
      "Requirement already satisfied: wsproto>=0.14 in /opt/homebrew/Cellar/jupyterlab/4.0.10/libexec/lib/python3.12/site-packages (from trio-websocket~=0.9->selenium) (1.2.0)\n",
      "Requirement already satisfied: pysocks!=1.5.7,<2.0,>=1.5.6 in /opt/homebrew/Cellar/jupyterlab/4.0.10/libexec/lib/python3.12/site-packages (from urllib3[socks]<3,>=1.26->selenium) (1.7.1)\n",
      "Requirement already satisfied: h11<1,>=0.9.0 in /opt/homebrew/Cellar/jupyterlab/4.0.10/libexec/lib/python3.12/site-packages (from wsproto>=0.14->trio-websocket~=0.9->selenium) (0.14.0)\n",
      "\n",
      "\u001b[1m[\u001b[0m\u001b[34;49mnotice\u001b[0m\u001b[1;39;49m]\u001b[0m\u001b[39;49m A new release of pip is available: \u001b[0m\u001b[31;49m23.3.1\u001b[0m\u001b[39;49m -> \u001b[0m\u001b[32;49m23.3.2\u001b[0m\n",
      "\u001b[1m[\u001b[0m\u001b[34;49mnotice\u001b[0m\u001b[1;39;49m]\u001b[0m\u001b[39;49m To update, run: \u001b[0m\u001b[32;49m/opt/homebrew/Cellar/jupyterlab/4.0.10/libexec/bin/python -m pip install --upgrade pip\u001b[0m\n",
      "Note: you may need to restart the kernel to use updated packages.\n"
     ]
    }
   ],
   "source": [
    "pip install selenium"
   ]
  },
  {
   "cell_type": "code",
   "execution_count": 2,
   "metadata": {},
   "outputs": [],
   "source": [
    "from selenium import webdriver\n",
    "driver = webdriver.Chrome()"
   ]
  },
  {
   "cell_type": "code",
   "execution_count": 3,
   "metadata": {},
   "outputs": [],
   "source": [
    "driver.get(\"https://www.musinsa.com/app/\")"
   ]
  },
  {
   "cell_type": "code",
   "execution_count": 4,
   "metadata": {},
   "outputs": [],
   "source": [
    "from selenium.webdriver.common.by import By"
   ]
  },
  {
   "cell_type": "code",
   "execution_count": 5,
   "metadata": {},
   "outputs": [],
   "source": [
    "#아우터 카테코리 선택\n",
    "driver.find_element(By.XPATH, '//strong[@class=\"sc-8hpehb-4 gSyKpj\" and contains(text(), \"아우터\")]').click()\n",
    "#<strong class=\"sc-8hpehb-4 gSyKpj\">아우터</strong>\n",
    "#leftCommonPc > div > section.sc-g0sulw-0.bvYiGx > div:nth-child(2) > nav > div:nth-child(1) > div.sc-8hpehb-7.liOFHO > ul > li:nth-child(14) > a"
   ]
  },
  {
   "cell_type": "code",
   "execution_count": 6,
   "metadata": {},
   "outputs": [],
   "source": [
    "#무스탕.퍼> 카테코리 선택\n",
    "#driver.find_element(By.XPATH, '//a[@class=\"sc-8hpehb-10 gUJCm\" and contains(text(), \"무스탕/퍼\")]').click()\n",
    "# 실제 작업하는 URL로 교체\n",
    "url = \"https://www.musinsa.com/categories/item/002025\"\n",
    "# URL 열기\n",
    "driver.get(url)\n",
    "button_xpath = '//a[@class=\"sc-8hpehb-10 gUJCm\" and contains(text(), \"무스탕/퍼\")]'\n",
    "button_element = driver.find_element(By.XPATH, button_xpath)\n",
    "button_element.click()\n",
    "#<span class=\"text_division_group ellipsis\">무스탕/퍼</span>\n",
    "#<a href=\"https://www.musinsa.com/categories/item/002025\" class=\"sc-8hpehb-10 gUJCm\">무스탕/퍼<span> (1,668)</span></a>"
   ]
  },
  {
   "cell_type": "code",
   "execution_count": null,
   "metadata": {},
   "outputs": [],
   "source": [
    "#여성 선택\n",
    "#driver.find_element(By.CSS_SELECTOR, \"button.sc-pvystx-1.iagVuI\").click()\n",
    "#<button class=\"sc-pvystx-1 iagVuI\">여성</button>\n",
    "#leftCommonPc > div > section.sc-g0sulw-0.bvYiGx > div:nth-child(2) > nav > div:nth-child(1) > div.sc-8hpehb-1.YxBZW > button > div.sc-8hpehb-3.HnLvd > strong"
   ]
  },
  {
   "cell_type": "code",
   "execution_count": 7,
   "metadata": {},
   "outputs": [],
   "source": [
    "#무신사 상품의 상품번호를 담을 수 있는 selenium 코드\n",
    "#(이 상품번호를 통해 아이템 정보에 접근 가능 (request 사용))\n",
    "#playid -> item_num 로 변경\n",
    "\n",
    "import re\n",
    "pattern = re.compile('\"goods-no\"=\"([0-9]+)\"')\n",
    "\n",
    "import time\n",
    "item_num = [] #상품 페이지 넘버(url)를 의미 (https://www.musinsa.com/app/goods/895995)\n",
    "#무스탕/퍼 js path (복사할 때 copy xpath 선택)\n",
    "select_category = \"/html/body/div[2]/div[2]/div[3]/dl/dd/ul/li[{}]/a[1]/span[1]\"\n",
    "select_page = \"/html/body/div[2]/div[2]/div[9]/div/div/div[2]/div[1]/div/div/a[{}]\" \n",
    "#document.querySelector(\"#goods_list > div.boxed-list-wrapper > div.sorter-box.box > div > div > a:nth-child(4)\")\n",
    "for x in range(12, 13):#무스탕,퍼 넘버 002(아우터) / 025번(무스탕,퍼) / xpath로는 12번\n",
    "    for_1 = select_category.format(x)\n",
    "    driver.find_element(By.XPATH, for_1).click()\n",
    "    time.sleep(2)\n",
    "    #playid.extend(pattern.findall(driver.page_source))\n",
    "    for y in range(1,10): # 무스탕/퍼 는 총 19페이지\n",
    "        f2 = select_page.format(y)\n",
    "        try:\n",
    "            driver.find_element(By.XPATH, f2).click()\n",
    "            time.sleep(1)\n",
    "            \n",
    "            item_num.extend(pattern.findall(driver.page_source))\n",
    "        #페이지 수가 다를 경우 사용\n",
    "        except Exception as e:\n",
    "            print (e)\n",
    "        time.sleep(2)"
   ]
  },
  {
   "cell_type": "code",
   "execution_count": 10,
   "metadata": {},
   "outputs": [
    {
     "data": {
      "text/plain": [
       "0"
      ]
     },
     "execution_count": 10,
     "metadata": {},
     "output_type": "execute_result"
    }
   ],
   "source": [
    "# item_num 갯수 추출\n",
    "len(item_num)"
   ]
  },
  {
   "cell_type": "code",
   "execution_count": 11,
   "metadata": {},
   "outputs": [
    {
     "data": {
      "text/plain": [
       "'SALE 34%\\n여성\\n널디\\n톤온톤 플리스 후디 자켓 베이비핑크\\n149,000원 99,000원\\nMEMBERSHIP PRICE\\n▼\\n3\\n238\\nOPTION ▼'"
      ]
     },
     "execution_count": 11,
     "metadata": {},
     "output_type": "execute_result"
    }
   ],
   "source": [
    "driver.find_element(By.CSS_SELECTOR, \"#searchList > li:nth-child(1)\").text"
   ]
  },
  {
   "cell_type": "code",
   "execution_count": null,
   "metadata": {},
   "outputs": [],
   "source": [
    "#searchList > li:nth-child(1)\n",
    "<li class=\"li_box\" data-no=\"2789773\">\n",
    "          <!-- 상단 좌측 라벨 -->\n",
    "          \n",
    "            \n",
    "  \n",
    "    <div class=\"icon_new\">SALE 34%</div>\n",
    "  \n",
    "\n",
    "          \n",
    "          <!-- 상단 우측 라벨 -->\n",
    "          \n",
    "\n",
    "          <div class=\"icon_group\">\n",
    "            <ul>\n",
    "              \n",
    "              <li class=\"icon_woman sight_out\" title=\"여성\">여성</li>\n",
    "              \n",
    "              \n",
    "            </ul>\n",
    "          </div>\n",
    "\n",
    "          <div class=\"li_inner\">\n",
    "            <div class=\"list_img\">\n",
    "              <a class=\"img-block\" name=\"goods_link\" href=\"//www.musinsa.com/app/goods/2789773\" title=\"톤온톤 플리스 후디 자켓 베이비핑크\">\n",
    "                <img class=\"lazyload lazy\" alt=\"널디(NERDY) 톤온톤 플리스 후디 자켓 베이비핑크\" data-original=\"https://image.msscdn.net/images/goods_img/20220914/2789773/2789773_3_125.png\" src=\"https://image.msscdn.net/images/goods_img/20220914/2789773/2789773_3_125.png\" style=\"display: block;\">\n",
    "                \n",
    "                \n",
    "                \n",
    "              </a>\n",
    "            </div>\n",
    "\n",
    "            <div class=\"article_info\">\n",
    "              \n",
    "\n",
    "              <p class=\"item_title\"><a href=\"//www.musinsa.com/brands/nerdy\">널디</a></p>\n",
    "              \n",
    "              <p class=\"list_info\">\n",
    "                \n",
    "                <a name=\"goods_link\" href=\"//www.musinsa.com/app/goods/2789773\" title=\"톤온톤 플리스 후디 자켓 베이비핑크\">\n",
    "                  <strong class=\"txt_reserve\"></strong>\n",
    "                  톤온톤 플리스 후디 자켓 베이비핑크\n",
    "                </a>\n",
    "              </p>\n",
    "\n",
    "              <p class=\"price\">\n",
    "                <del>149,000원</del>\n",
    "                99,000원\n",
    "              </p>\n",
    "\n",
    "              \n",
    "\n",
    "              <p class=\"membership\" onclick=\"viewMemberPrice('sPrice_2789773', '2789773', '0');\">MEMBERSHIP PRICE<span class=\"fr\">▼</span></p>\n",
    "              <div class=\"member_price\" style=\"display:none; z-index: 9999;\" id=\"sPrice_2789773\">\n",
    "                <p>무신사 회원가<span class=\"fr\"><a href=\"#\" onclick=\"viewMemberPrice('sPrice_2789773', '2789773', '0');return false;\">X</a></span></p>\n",
    "                <ul>\n",
    "                  <li style=\"border-bottom:1px solid #ddd;\" class=\"pertinent\">\n",
    "                    <span>&gt; </span>\n",
    "                    비회원\n",
    "                    <span class=\"txt_price_member\">99,000원</span></li>\n",
    "                </ul>\n",
    "              </div>\n",
    "\n",
    "              \n",
    "\n",
    "              <p class=\"point\">\n",
    "                <span class=\"img-score\"><span class=\"bar\" style=\"width:100%\"></span></span>\n",
    "                <span class=\"count\">3</span>\n",
    "              </p>\n",
    "\n",
    "              <p class=\"txt_cnt_like\" data-goodsno=\"2789773\" data-gtm-vis-recent-on-screen11584968_1136=\"1406\" data-gtm-vis-first-on-screen11584968_1136=\"1406\" data-gtm-vis-total-visible-time11584968_1136=\"100\" data-gtm-vis-has-fired11584968_1136=\"1\" data-gtm-vis-recent-on-screen11584968_1453=\"1507\" data-gtm-vis-first-on-screen11584968_1453=\"1507\" data-gtm-vis-total-visible-time11584968_1453=\"2500\" data-gtm-vis-recent-on-screen11584968_147=\"1507\" data-gtm-vis-first-on-screen11584968_147=\"1507\" data-gtm-vis-total-visible-time11584968_147=\"2500\" data-gtm-vis-has-fired11584968_1453=\"1\" data-gtm-vis-has-fired11584968_147=\"1\"><img src=\"//image.msscdn.net/skin/musinsa/images/icon_like_small_on.png\" alt=\"좋아요\"> 238</p>\n",
    "            </div>\n",
    "          </div>\n",
    "          <div class=\"option\">\n",
    "            <p class=\"option_btn\">\n",
    "              <a data-goods-no=\"2789773\" href=\"#pol2789773\" onclick=\"viewOptionBox(2789773, 0); return false;\">OPTION ▼</a>\n",
    "            </p>\n",
    "            <div style=\"display:none;\" class=\"list_pol_goods\" id=\"pol2789773\"></div>\n",
    "          </div>\n",
    "        </li>"
   ]
  },
  {
   "cell_type": "code",
   "execution_count": null,
   "metadata": {},
   "outputs": [
    {
     "name": "stdout",
     "output_type": "stream",
     "text": [
      "Requirement already satisfied: beautifulsoup4 in c:\\users\\playdata\\appdata\\local\\programs\\python\\python311\\lib\\site-packages (4.12.2)\n",
      "Requirement already satisfied: soupsieve>1.2 in c:\\users\\playdata\\appdata\\local\\programs\\python\\python311\\lib\\site-packages (from beautifulsoup4) (2.5)\n",
      "Note: you may need to restart the kernel to use updated packages.\n"
     ]
    },
    {
     "name": "stderr",
     "output_type": "stream",
     "text": [
      "\n",
      "[notice] A new release of pip is available: 23.3.1 -> 23.3.2\n",
      "[notice] To update, run: python.exe -m pip install --upgrade pip\n"
     ]
    }
   ],
   "source": [
    "pip install beautifulsoup4"
   ]
  },
  {
   "cell_type": "code",
   "execution_count": null,
   "metadata": {},
   "outputs": [
    {
     "name": "stdout",
     "output_type": "stream",
     "text": [
      "Requirement already satisfied: requests in c:\\users\\playdata\\appdata\\local\\programs\\python\\python311\\lib\\site-packages (2.31.0)\n",
      "Requirement already satisfied: charset-normalizer<4,>=2 in c:\\users\\playdata\\appdata\\local\\programs\\python\\python311\\lib\\site-packages (from requests) (3.3.2)\n",
      "Requirement already satisfied: idna<4,>=2.5 in c:\\users\\playdata\\appdata\\local\\programs\\python\\python311\\lib\\site-packages (from requests) (3.6)\n",
      "Requirement already satisfied: urllib3<3,>=1.21.1 in c:\\users\\playdata\\appdata\\local\\programs\\python\\python311\\lib\\site-packages (from requests) (2.1.0)\n",
      "Requirement already satisfied: certifi>=2017.4.17 in c:\\users\\playdata\\appdata\\local\\programs\\python\\python311\\lib\\site-packages (from requests) (2023.11.17)\n",
      "Note: you may need to restart the kernel to use updated packages.\n"
     ]
    },
    {
     "name": "stderr",
     "output_type": "stream",
     "text": [
      "\n",
      "[notice] A new release of pip is available: 23.3.1 -> 23.3.2\n",
      "[notice] To update, run: python.exe -m pip install --upgrade pip\n"
     ]
    }
   ],
   "source": [
    "pip install requests"
   ]
  },
  {
   "cell_type": "code",
   "execution_count": null,
   "metadata": {},
   "outputs": [],
   "source": [
    "from bs4 import BeautifulSoup as BS\n",
    "import requests\n",
    "import csv, os\n",
    "\n",
    "# 제품 상세 정보\n",
    "# 제품 하나당 CSV 파일로 저장\n",
    "#url = \"https://www.koreabaseball.com/Record/Player/PitcherDetail/Basic.aspx?playerId={}\"\n",
    "url = \"https://www.musinsa.com/app/goods/{}\"\n",
    "#os.mkdir(\"./kbodata\")\n",
    "\n",
    "for item_ in item_num:\n",
    "    \n",
    "    #print(url.format(x))\n",
    "    bs = BS(requests.get(url.format(item_)).text) # bs = beautiful soup\n",
    "    item_name = bs.find(\"h3\", id = \"product-detail__sc-1klhlce-3 fjguJZ\").text\n",
    "    #<h3 class=\"product-detail__sc-1klhlce-3 fjguJZ\">와이드 카라 시어링 자켓 베이지</h3>\n",
    "    f = open(f\"./musinsa/{item_}.csv\", \"w\", encoding='utf-8')\n",
    "    csv_writer = csv.writer(f)\n",
    "\n",
    "    csv_writer.writerow([item_name] + [x.text.split(\":\")[-1].strip() for x in bs.find(\"div\", class_=\"product-box\").findAll(\"li\")])\n",
    "    f.close()\n"
   ]
  },
  {
   "cell_type": "code",
   "execution_count": null,
   "metadata": {},
   "outputs": [],
   "source": []
  }
 ],
 "metadata": {
  "kernelspec": {
   "display_name": "Python 3 (ipykernel)",
   "language": "python",
   "name": "python3"
  },
  "language_info": {
   "codemirror_mode": {
    "name": "ipython",
    "version": 3
   },
   "file_extension": ".py",
   "mimetype": "text/x-python",
   "name": "python",
   "nbconvert_exporter": "python",
   "pygments_lexer": "ipython3",
   "version": "3.12.1"
  }
 },
 "nbformat": 4,
 "nbformat_minor": 4
}
